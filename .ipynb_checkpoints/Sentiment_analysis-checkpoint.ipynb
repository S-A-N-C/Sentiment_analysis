{
 "cells": [
  {
   "cell_type": "code",
   "execution_count": 208,
   "metadata": {
    "colab": {
     "base_uri": "https://localhost:8080/"
    },
    "executionInfo": {
     "elapsed": 3743,
     "status": "ok",
     "timestamp": 1660958296594,
     "user": {
      "displayName": "손현오",
      "userId": "06550482445240444986"
     },
     "user_tz": -540
    },
    "id": "OlUJiLFHG8wy",
    "outputId": "3ec8ee41-f011-4971-d5c4-a84becdfb3b6"
   },
   "outputs": [
    {
     "name": "stdout",
     "output_type": "stream",
     "text": [
      "Using pip 21.1.3 from /usr/local/lib/python3.7/dist-packages/pip (python 3.7)\n",
      "Value for scheme.platlib does not match. Please report this to <https://github.com/pypa/pip/issues/9617>\n",
      "distutils: /usr/local/lib/python3.7/dist-packages\n",
      "sysconfig: /usr/lib/python3.7/site-packages\n",
      "Value for scheme.purelib does not match. Please report this to <https://github.com/pypa/pip/issues/9617>\n",
      "distutils: /usr/local/lib/python3.7/dist-packages\n",
      "sysconfig: /usr/lib/python3.7/site-packages\n",
      "Value for scheme.headers does not match. Please report this to <https://github.com/pypa/pip/issues/9617>\n",
      "distutils: /usr/local/include/python3.7/UNKNOWN\n",
      "sysconfig: /usr/include/python3.7m/UNKNOWN\n",
      "Value for scheme.scripts does not match. Please report this to <https://github.com/pypa/pip/issues/9617>\n",
      "distutils: /usr/local/bin\n",
      "sysconfig: /usr/bin\n",
      "Value for scheme.data does not match. Please report this to <https://github.com/pypa/pip/issues/9617>\n",
      "distutils: /usr/local\n",
      "sysconfig: /usr\n",
      "Additional context:\n",
      "user = False\n",
      "home = None\n",
      "root = None\n",
      "prefix = None\n",
      "Non-user install because site-packages writeable\n",
      "Created temporary directory: /tmp/pip-ephem-wheel-cache-_814neeo\n",
      "Created temporary directory: /tmp/pip-req-tracker-ft6ydav5\n",
      "Initialized build tracking at /tmp/pip-req-tracker-ft6ydav5\n",
      "Created build tracker: /tmp/pip-req-tracker-ft6ydav5\n",
      "Entered build tracker: /tmp/pip-req-tracker-ft6ydav5\n",
      "Created temporary directory: /tmp/pip-install-23wp1q1g\n",
      "Looking in indexes: https://pypi.org/simple, https://us-python.pkg.dev/colab-wheels/public/simple/\n",
      "Requirement already satisfied: python-mecab-ko in /usr/local/lib/python3.7/dist-packages (1.0.14)\n",
      "Requirement already satisfied: pybind11~=2.9.0 in /usr/local/lib/python3.7/dist-packages (from python-mecab-ko) (2.9.2)\n",
      "Created temporary directory: /tmp/pip-unpack-mir9j5w9\n",
      "Value for scheme.platlib does not match. Please report this to <https://github.com/pypa/pip/issues/9617>\n",
      "distutils: /usr/local/lib/python3.7/dist-packages\n",
      "sysconfig: /usr/lib/python3.7/site-packages\n",
      "Value for scheme.purelib does not match. Please report this to <https://github.com/pypa/pip/issues/9617>\n",
      "distutils: /usr/local/lib/python3.7/dist-packages\n",
      "sysconfig: /usr/lib/python3.7/site-packages\n",
      "Value for scheme.headers does not match. Please report this to <https://github.com/pypa/pip/issues/9617>\n",
      "distutils: /usr/local/include/python3.7/UNKNOWN\n",
      "sysconfig: /usr/include/python3.7m/UNKNOWN\n",
      "Value for scheme.scripts does not match. Please report this to <https://github.com/pypa/pip/issues/9617>\n",
      "distutils: /usr/local/bin\n",
      "sysconfig: /usr/bin\n",
      "Value for scheme.data does not match. Please report this to <https://github.com/pypa/pip/issues/9617>\n",
      "distutils: /usr/local\n",
      "sysconfig: /usr\n",
      "Additional context:\n",
      "user = False\n",
      "home = None\n",
      "root = None\n",
      "prefix = None\n",
      "Removed build tracker: '/tmp/pip-req-tracker-ft6ydav5'\n"
     ]
    }
   ],
   "source": [
    "!pip install -v python-mecab-ko"
   ]
  },
  {
   "cell_type": "code",
   "execution_count": 209,
   "metadata": {
    "executionInfo": {
     "elapsed": 8,
     "status": "ok",
     "timestamp": 1660958296886,
     "user": {
      "displayName": "손현오",
      "userId": "06550482445240444986"
     },
     "user_tz": -540
    },
    "id": "HSHp8BrbG8w4"
   },
   "outputs": [],
   "source": [
    "\n",
    "import pandas as pd\n",
    "import numpy as np\n",
    "import matplotlib.pyplot as plt\n",
    "from sklearn.model_selection import train_test_split\n",
    "import re\n",
    "import urllib.request\n",
    "import mecab\n",
    "from tqdm import tqdm\n",
    "from tensorflow.keras.preprocessing.text import Tokenizer\n",
    "from tensorflow.keras.preprocessing.sequence import pad_sequences"
   ]
  },
  {
   "cell_type": "code",
   "execution_count": 210,
   "metadata": {
    "colab": {
     "base_uri": "https://localhost:8080/"
    },
    "executionInfo": {
     "elapsed": 8,
     "status": "ok",
     "timestamp": 1660958296886,
     "user": {
      "displayName": "손현오",
      "userId": "06550482445240444986"
     },
     "user_tz": -540
    },
    "id": "cOBNwUaIG8w5",
    "outputId": "6bc79ee2-a164-4782-e5c8-dd7199d072bd"
   },
   "outputs": [
    {
     "data": {
      "text/plain": [
       "('finance_data.csv', <http.client.HTTPMessage at 0x7f3240bf7050>)"
      ]
     },
     "execution_count": 210,
     "metadata": {},
     "output_type": "execute_result"
    }
   ],
   "source": [
    "urllib.request.urlretrieve(\"https://raw.githubusercontent.com/ukairia777/finance_sentiment_corpus/main/finance_data.csv\", filename=\"finance_data.csv\")"
   ]
  },
  {
   "cell_type": "code",
   "execution_count": 211,
   "metadata": {
    "colab": {
     "base_uri": "https://localhost:8080/"
    },
    "executionInfo": {
     "elapsed": 7,
     "status": "ok",
     "timestamp": 1660958296886,
     "user": {
      "displayName": "손현오",
      "userId": "06550482445240444986"
     },
     "user_tz": -540
    },
    "id": "_SoUlrpgG8w6",
    "outputId": "f82f715f-ab82-45cc-b638-d33e535aeb83"
   },
   "outputs": [
    {
     "name": "stdout",
     "output_type": "stream",
     "text": [
      "총 샘플의 수 : 4846\n"
     ]
    }
   ],
   "source": [
    "data = pd.read_csv('finance_data.csv')\n",
    "print('총 샘플의 수 :',len(data))"
   ]
  },
  {
   "cell_type": "code",
   "execution_count": 212,
   "metadata": {
    "colab": {
     "base_uri": "https://localhost:8080/",
     "height": 424
    },
    "executionInfo": {
     "elapsed": 331,
     "status": "ok",
     "timestamp": 1660958297212,
     "user": {
      "displayName": "손현오",
      "userId": "06550482445240444986"
     },
     "user_tz": -540
    },
    "id": "_HTTiomrG8w7",
    "outputId": "a29174b2-dc06-4e30-ae07-9d91d0612275"
   },
   "outputs": [
    {
     "data": {
      "text/html": [
       "\n",
       "  <div id=\"df-f72d65b2-4bd9-430a-a0a4-a653fcc3ebbc\">\n",
       "    <div class=\"colab-df-container\">\n",
       "      <div>\n",
       "<style scoped>\n",
       "    .dataframe tbody tr th:only-of-type {\n",
       "        vertical-align: middle;\n",
       "    }\n",
       "\n",
       "    .dataframe tbody tr th {\n",
       "        vertical-align: top;\n",
       "    }\n",
       "\n",
       "    .dataframe thead th {\n",
       "        text-align: right;\n",
       "    }\n",
       "</style>\n",
       "<table border=\"1\" class=\"dataframe\">\n",
       "  <thead>\n",
       "    <tr style=\"text-align: right;\">\n",
       "      <th></th>\n",
       "      <th>labels</th>\n",
       "      <th>sentence</th>\n",
       "      <th>kor_sentence</th>\n",
       "    </tr>\n",
       "  </thead>\n",
       "  <tbody>\n",
       "    <tr>\n",
       "      <th>0</th>\n",
       "      <td>neutral</td>\n",
       "      <td>According to Gran, the company has no plans to...</td>\n",
       "      <td>Gran에 따르면, 그 회사는 회사가 성장하고 있는 곳이지만, 모든 생산을 러시아로...</td>\n",
       "    </tr>\n",
       "    <tr>\n",
       "      <th>1</th>\n",
       "      <td>neutral</td>\n",
       "      <td>Technopolis plans to develop in stages an area...</td>\n",
       "      <td>테크노폴리스는 컴퓨터 기술과 통신 분야에서 일하는 회사들을 유치하기 위해 10만 평...</td>\n",
       "    </tr>\n",
       "    <tr>\n",
       "      <th>2</th>\n",
       "      <td>negative</td>\n",
       "      <td>The international electronic industry company ...</td>\n",
       "      <td>국제 전자산업 회사인 엘코텍은 탈린 공장에서 수십 명의 직원을 해고했으며, 이전의 ...</td>\n",
       "    </tr>\n",
       "    <tr>\n",
       "      <th>3</th>\n",
       "      <td>positive</td>\n",
       "      <td>With the new production plant the company woul...</td>\n",
       "      <td>새로운 생산공장으로 인해 회사는 예상되는 수요 증가를 충족시킬 수 있는 능력을 증가...</td>\n",
       "    </tr>\n",
       "    <tr>\n",
       "      <th>4</th>\n",
       "      <td>positive</td>\n",
       "      <td>According to the company's updated strategy fo...</td>\n",
       "      <td>2009-2012년 회사의 업데이트된 전략에 따르면, Basware는 20% - 4...</td>\n",
       "    </tr>\n",
       "    <tr>\n",
       "      <th>...</th>\n",
       "      <td>...</td>\n",
       "      <td>...</td>\n",
       "      <td>...</td>\n",
       "    </tr>\n",
       "    <tr>\n",
       "      <th>4841</th>\n",
       "      <td>negative</td>\n",
       "      <td>LONDON MarketWatch -- Share prices ended lower...</td>\n",
       "      <td>런던 마켓워치 -- 은행주의 반등이 FTSE 100지수의 약세를 상쇄하지 못하면서 ...</td>\n",
       "    </tr>\n",
       "    <tr>\n",
       "      <th>4842</th>\n",
       "      <td>neutral</td>\n",
       "      <td>Rinkuskiai's beer sales fell by 6.5 per cent t...</td>\n",
       "      <td>린쿠스키아의 맥주 판매량은 416만 리터로 6.5% 감소했으며 카우노 알루스의 맥주...</td>\n",
       "    </tr>\n",
       "    <tr>\n",
       "      <th>4843</th>\n",
       "      <td>negative</td>\n",
       "      <td>Operating profit fell to EUR 35.4 mn from EUR ...</td>\n",
       "      <td>영업이익은 2007년 68.8 mn에서 35.4 mn으로 떨어졌으며, 선박 판매 이...</td>\n",
       "    </tr>\n",
       "    <tr>\n",
       "      <th>4844</th>\n",
       "      <td>negative</td>\n",
       "      <td>Net sales of the Paper segment decreased to EU...</td>\n",
       "      <td>페이퍼 부문 순매출은 2008년 2분기 241.1 mn에서 2009년 2분기 221...</td>\n",
       "    </tr>\n",
       "    <tr>\n",
       "      <th>4845</th>\n",
       "      <td>negative</td>\n",
       "      <td>Sales in Finland decreased by 10.5 % in Januar...</td>\n",
       "      <td>핀란드에서의 판매는 1월에 10.5% 감소한 반면, 국외에서의 판매는 17% 감소했다.</td>\n",
       "    </tr>\n",
       "  </tbody>\n",
       "</table>\n",
       "<p>4846 rows × 3 columns</p>\n",
       "</div>\n",
       "      <button class=\"colab-df-convert\" onclick=\"convertToInteractive('df-f72d65b2-4bd9-430a-a0a4-a653fcc3ebbc')\"\n",
       "              title=\"Convert this dataframe to an interactive table.\"\n",
       "              style=\"display:none;\">\n",
       "        \n",
       "  <svg xmlns=\"http://www.w3.org/2000/svg\" height=\"24px\"viewBox=\"0 0 24 24\"\n",
       "       width=\"24px\">\n",
       "    <path d=\"M0 0h24v24H0V0z\" fill=\"none\"/>\n",
       "    <path d=\"M18.56 5.44l.94 2.06.94-2.06 2.06-.94-2.06-.94-.94-2.06-.94 2.06-2.06.94zm-11 1L8.5 8.5l.94-2.06 2.06-.94-2.06-.94L8.5 2.5l-.94 2.06-2.06.94zm10 10l.94 2.06.94-2.06 2.06-.94-2.06-.94-.94-2.06-.94 2.06-2.06.94z\"/><path d=\"M17.41 7.96l-1.37-1.37c-.4-.4-.92-.59-1.43-.59-.52 0-1.04.2-1.43.59L10.3 9.45l-7.72 7.72c-.78.78-.78 2.05 0 2.83L4 21.41c.39.39.9.59 1.41.59.51 0 1.02-.2 1.41-.59l7.78-7.78 2.81-2.81c.8-.78.8-2.07 0-2.86zM5.41 20L4 18.59l7.72-7.72 1.47 1.35L5.41 20z\"/>\n",
       "  </svg>\n",
       "      </button>\n",
       "      \n",
       "  <style>\n",
       "    .colab-df-container {\n",
       "      display:flex;\n",
       "      flex-wrap:wrap;\n",
       "      gap: 12px;\n",
       "    }\n",
       "\n",
       "    .colab-df-convert {\n",
       "      background-color: #E8F0FE;\n",
       "      border: none;\n",
       "      border-radius: 50%;\n",
       "      cursor: pointer;\n",
       "      display: none;\n",
       "      fill: #1967D2;\n",
       "      height: 32px;\n",
       "      padding: 0 0 0 0;\n",
       "      width: 32px;\n",
       "    }\n",
       "\n",
       "    .colab-df-convert:hover {\n",
       "      background-color: #E2EBFA;\n",
       "      box-shadow: 0px 1px 2px rgba(60, 64, 67, 0.3), 0px 1px 3px 1px rgba(60, 64, 67, 0.15);\n",
       "      fill: #174EA6;\n",
       "    }\n",
       "\n",
       "    [theme=dark] .colab-df-convert {\n",
       "      background-color: #3B4455;\n",
       "      fill: #D2E3FC;\n",
       "    }\n",
       "\n",
       "    [theme=dark] .colab-df-convert:hover {\n",
       "      background-color: #434B5C;\n",
       "      box-shadow: 0px 1px 3px 1px rgba(0, 0, 0, 0.15);\n",
       "      filter: drop-shadow(0px 1px 2px rgba(0, 0, 0, 0.3));\n",
       "      fill: #FFFFFF;\n",
       "    }\n",
       "  </style>\n",
       "\n",
       "      <script>\n",
       "        const buttonEl =\n",
       "          document.querySelector('#df-f72d65b2-4bd9-430a-a0a4-a653fcc3ebbc button.colab-df-convert');\n",
       "        buttonEl.style.display =\n",
       "          google.colab.kernel.accessAllowed ? 'block' : 'none';\n",
       "\n",
       "        async function convertToInteractive(key) {\n",
       "          const element = document.querySelector('#df-f72d65b2-4bd9-430a-a0a4-a653fcc3ebbc');\n",
       "          const dataTable =\n",
       "            await google.colab.kernel.invokeFunction('convertToInteractive',\n",
       "                                                     [key], {});\n",
       "          if (!dataTable) return;\n",
       "\n",
       "          const docLinkHtml = 'Like what you see? Visit the ' +\n",
       "            '<a target=\"_blank\" href=https://colab.research.google.com/notebooks/data_table.ipynb>data table notebook</a>'\n",
       "            + ' to learn more about interactive tables.';\n",
       "          element.innerHTML = '';\n",
       "          dataTable['output_type'] = 'display_data';\n",
       "          await google.colab.output.renderOutput(dataTable, element);\n",
       "          const docLink = document.createElement('div');\n",
       "          docLink.innerHTML = docLinkHtml;\n",
       "          element.appendChild(docLink);\n",
       "        }\n",
       "      </script>\n",
       "    </div>\n",
       "  </div>\n",
       "  "
      ],
      "text/plain": [
       "        labels                                           sentence  \\\n",
       "0      neutral  According to Gran, the company has no plans to...   \n",
       "1      neutral  Technopolis plans to develop in stages an area...   \n",
       "2     negative  The international electronic industry company ...   \n",
       "3     positive  With the new production plant the company woul...   \n",
       "4     positive  According to the company's updated strategy fo...   \n",
       "...        ...                                                ...   \n",
       "4841  negative  LONDON MarketWatch -- Share prices ended lower...   \n",
       "4842   neutral  Rinkuskiai's beer sales fell by 6.5 per cent t...   \n",
       "4843  negative  Operating profit fell to EUR 35.4 mn from EUR ...   \n",
       "4844  negative  Net sales of the Paper segment decreased to EU...   \n",
       "4845  negative  Sales in Finland decreased by 10.5 % in Januar...   \n",
       "\n",
       "                                           kor_sentence  \n",
       "0     Gran에 따르면, 그 회사는 회사가 성장하고 있는 곳이지만, 모든 생산을 러시아로...  \n",
       "1     테크노폴리스는 컴퓨터 기술과 통신 분야에서 일하는 회사들을 유치하기 위해 10만 평...  \n",
       "2     국제 전자산업 회사인 엘코텍은 탈린 공장에서 수십 명의 직원을 해고했으며, 이전의 ...  \n",
       "3     새로운 생산공장으로 인해 회사는 예상되는 수요 증가를 충족시킬 수 있는 능력을 증가...  \n",
       "4     2009-2012년 회사의 업데이트된 전략에 따르면, Basware는 20% - 4...  \n",
       "...                                                 ...  \n",
       "4841  런던 마켓워치 -- 은행주의 반등이 FTSE 100지수의 약세를 상쇄하지 못하면서 ...  \n",
       "4842  린쿠스키아의 맥주 판매량은 416만 리터로 6.5% 감소했으며 카우노 알루스의 맥주...  \n",
       "4843  영업이익은 2007년 68.8 mn에서 35.4 mn으로 떨어졌으며, 선박 판매 이...  \n",
       "4844  페이퍼 부문 순매출은 2008년 2분기 241.1 mn에서 2009년 2분기 221...  \n",
       "4845   핀란드에서의 판매는 1월에 10.5% 감소한 반면, 국외에서의 판매는 17% 감소했다.  \n",
       "\n",
       "[4846 rows x 3 columns]"
      ]
     },
     "execution_count": 212,
     "metadata": {},
     "output_type": "execute_result"
    }
   ],
   "source": [
    "data"
   ]
  },
  {
   "cell_type": "code",
   "execution_count": 213,
   "metadata": {
    "colab": {
     "base_uri": "https://localhost:8080/",
     "height": 206
    },
    "executionInfo": {
     "elapsed": 16,
     "status": "ok",
     "timestamp": 1660958297212,
     "user": {
      "displayName": "손현오",
      "userId": "06550482445240444986"
     },
     "user_tz": -540
    },
    "id": "-4W-jNOWG8w7",
    "outputId": "4c50a37b-bbba-4268-811f-f281a0bb4b2f"
   },
   "outputs": [
    {
     "data": {
      "text/html": [
       "\n",
       "  <div id=\"df-b04a89bb-b888-469d-8c49-1cef6bc47298\">\n",
       "    <div class=\"colab-df-container\">\n",
       "      <div>\n",
       "<style scoped>\n",
       "    .dataframe tbody tr th:only-of-type {\n",
       "        vertical-align: middle;\n",
       "    }\n",
       "\n",
       "    .dataframe tbody tr th {\n",
       "        vertical-align: top;\n",
       "    }\n",
       "\n",
       "    .dataframe thead th {\n",
       "        text-align: right;\n",
       "    }\n",
       "</style>\n",
       "<table border=\"1\" class=\"dataframe\">\n",
       "  <thead>\n",
       "    <tr style=\"text-align: right;\">\n",
       "      <th></th>\n",
       "      <th>labels</th>\n",
       "      <th>sentence</th>\n",
       "      <th>kor_sentence</th>\n",
       "    </tr>\n",
       "  </thead>\n",
       "  <tbody>\n",
       "    <tr>\n",
       "      <th>0</th>\n",
       "      <td>0</td>\n",
       "      <td>According to Gran, the company has no plans to...</td>\n",
       "      <td>Gran에 따르면, 그 회사는 회사가 성장하고 있는 곳이지만, 모든 생산을 러시아로...</td>\n",
       "    </tr>\n",
       "    <tr>\n",
       "      <th>1</th>\n",
       "      <td>0</td>\n",
       "      <td>Technopolis plans to develop in stages an area...</td>\n",
       "      <td>테크노폴리스는 컴퓨터 기술과 통신 분야에서 일하는 회사들을 유치하기 위해 10만 평...</td>\n",
       "    </tr>\n",
       "    <tr>\n",
       "      <th>2</th>\n",
       "      <td>2</td>\n",
       "      <td>The international electronic industry company ...</td>\n",
       "      <td>국제 전자산업 회사인 엘코텍은 탈린 공장에서 수십 명의 직원을 해고했으며, 이전의 ...</td>\n",
       "    </tr>\n",
       "    <tr>\n",
       "      <th>3</th>\n",
       "      <td>1</td>\n",
       "      <td>With the new production plant the company woul...</td>\n",
       "      <td>새로운 생산공장으로 인해 회사는 예상되는 수요 증가를 충족시킬 수 있는 능력을 증가...</td>\n",
       "    </tr>\n",
       "    <tr>\n",
       "      <th>4</th>\n",
       "      <td>1</td>\n",
       "      <td>According to the company's updated strategy fo...</td>\n",
       "      <td>2009-2012년 회사의 업데이트된 전략에 따르면, Basware는 20% - 4...</td>\n",
       "    </tr>\n",
       "  </tbody>\n",
       "</table>\n",
       "</div>\n",
       "      <button class=\"colab-df-convert\" onclick=\"convertToInteractive('df-b04a89bb-b888-469d-8c49-1cef6bc47298')\"\n",
       "              title=\"Convert this dataframe to an interactive table.\"\n",
       "              style=\"display:none;\">\n",
       "        \n",
       "  <svg xmlns=\"http://www.w3.org/2000/svg\" height=\"24px\"viewBox=\"0 0 24 24\"\n",
       "       width=\"24px\">\n",
       "    <path d=\"M0 0h24v24H0V0z\" fill=\"none\"/>\n",
       "    <path d=\"M18.56 5.44l.94 2.06.94-2.06 2.06-.94-2.06-.94-.94-2.06-.94 2.06-2.06.94zm-11 1L8.5 8.5l.94-2.06 2.06-.94-2.06-.94L8.5 2.5l-.94 2.06-2.06.94zm10 10l.94 2.06.94-2.06 2.06-.94-2.06-.94-.94-2.06-.94 2.06-2.06.94z\"/><path d=\"M17.41 7.96l-1.37-1.37c-.4-.4-.92-.59-1.43-.59-.52 0-1.04.2-1.43.59L10.3 9.45l-7.72 7.72c-.78.78-.78 2.05 0 2.83L4 21.41c.39.39.9.59 1.41.59.51 0 1.02-.2 1.41-.59l7.78-7.78 2.81-2.81c.8-.78.8-2.07 0-2.86zM5.41 20L4 18.59l7.72-7.72 1.47 1.35L5.41 20z\"/>\n",
       "  </svg>\n",
       "      </button>\n",
       "      \n",
       "  <style>\n",
       "    .colab-df-container {\n",
       "      display:flex;\n",
       "      flex-wrap:wrap;\n",
       "      gap: 12px;\n",
       "    }\n",
       "\n",
       "    .colab-df-convert {\n",
       "      background-color: #E8F0FE;\n",
       "      border: none;\n",
       "      border-radius: 50%;\n",
       "      cursor: pointer;\n",
       "      display: none;\n",
       "      fill: #1967D2;\n",
       "      height: 32px;\n",
       "      padding: 0 0 0 0;\n",
       "      width: 32px;\n",
       "    }\n",
       "\n",
       "    .colab-df-convert:hover {\n",
       "      background-color: #E2EBFA;\n",
       "      box-shadow: 0px 1px 2px rgba(60, 64, 67, 0.3), 0px 1px 3px 1px rgba(60, 64, 67, 0.15);\n",
       "      fill: #174EA6;\n",
       "    }\n",
       "\n",
       "    [theme=dark] .colab-df-convert {\n",
       "      background-color: #3B4455;\n",
       "      fill: #D2E3FC;\n",
       "    }\n",
       "\n",
       "    [theme=dark] .colab-df-convert:hover {\n",
       "      background-color: #434B5C;\n",
       "      box-shadow: 0px 1px 3px 1px rgba(0, 0, 0, 0.15);\n",
       "      filter: drop-shadow(0px 1px 2px rgba(0, 0, 0, 0.3));\n",
       "      fill: #FFFFFF;\n",
       "    }\n",
       "  </style>\n",
       "\n",
       "      <script>\n",
       "        const buttonEl =\n",
       "          document.querySelector('#df-b04a89bb-b888-469d-8c49-1cef6bc47298 button.colab-df-convert');\n",
       "        buttonEl.style.display =\n",
       "          google.colab.kernel.accessAllowed ? 'block' : 'none';\n",
       "\n",
       "        async function convertToInteractive(key) {\n",
       "          const element = document.querySelector('#df-b04a89bb-b888-469d-8c49-1cef6bc47298');\n",
       "          const dataTable =\n",
       "            await google.colab.kernel.invokeFunction('convertToInteractive',\n",
       "                                                     [key], {});\n",
       "          if (!dataTable) return;\n",
       "\n",
       "          const docLinkHtml = 'Like what you see? Visit the ' +\n",
       "            '<a target=\"_blank\" href=https://colab.research.google.com/notebooks/data_table.ipynb>data table notebook</a>'\n",
       "            + ' to learn more about interactive tables.';\n",
       "          element.innerHTML = '';\n",
       "          dataTable['output_type'] = 'display_data';\n",
       "          await google.colab.output.renderOutput(dataTable, element);\n",
       "          const docLink = document.createElement('div');\n",
       "          docLink.innerHTML = docLinkHtml;\n",
       "          element.appendChild(docLink);\n",
       "        }\n",
       "      </script>\n",
       "    </div>\n",
       "  </div>\n",
       "  "
      ],
      "text/plain": [
       "   labels                                           sentence  \\\n",
       "0       0  According to Gran, the company has no plans to...   \n",
       "1       0  Technopolis plans to develop in stages an area...   \n",
       "2       2  The international electronic industry company ...   \n",
       "3       1  With the new production plant the company woul...   \n",
       "4       1  According to the company's updated strategy fo...   \n",
       "\n",
       "                                        kor_sentence  \n",
       "0  Gran에 따르면, 그 회사는 회사가 성장하고 있는 곳이지만, 모든 생산을 러시아로...  \n",
       "1  테크노폴리스는 컴퓨터 기술과 통신 분야에서 일하는 회사들을 유치하기 위해 10만 평...  \n",
       "2  국제 전자산업 회사인 엘코텍은 탈린 공장에서 수십 명의 직원을 해고했으며, 이전의 ...  \n",
       "3  새로운 생산공장으로 인해 회사는 예상되는 수요 증가를 충족시킬 수 있는 능력을 증가...  \n",
       "4  2009-2012년 회사의 업데이트된 전략에 따르면, Basware는 20% - 4...  "
      ]
     },
     "execution_count": 213,
     "metadata": {},
     "output_type": "execute_result"
    }
   ],
   "source": [
    "data['labels'] = data['labels'].replace(['neutral', 'positive', 'negative'],[0, 1, 2])\n",
    "data[:5]"
   ]
  },
  {
   "cell_type": "code",
   "execution_count": 214,
   "metadata": {
    "executionInfo": {
     "elapsed": 16,
     "status": "ok",
     "timestamp": 1660958297213,
     "user": {
      "displayName": "손현오",
      "userId": "06550482445240444986"
     },
     "user_tz": -540
    },
    "id": "Gz32VdEYG8w8"
   },
   "outputs": [],
   "source": [
    "del data['sentence']"
   ]
  },
  {
   "cell_type": "code",
   "execution_count": 215,
   "metadata": {
    "colab": {
     "base_uri": "https://localhost:8080/",
     "height": 206
    },
    "executionInfo": {
     "elapsed": 16,
     "status": "ok",
     "timestamp": 1660958297213,
     "user": {
      "displayName": "손현오",
      "userId": "06550482445240444986"
     },
     "user_tz": -540
    },
    "id": "PB8NCXSGG8w9",
    "outputId": "10da59c6-2b3c-4de0-f9ec-7487a99f8e30"
   },
   "outputs": [
    {
     "data": {
      "text/html": [
       "\n",
       "  <div id=\"df-c15aecbb-4c3f-4448-b634-5b4eb77048b1\">\n",
       "    <div class=\"colab-df-container\">\n",
       "      <div>\n",
       "<style scoped>\n",
       "    .dataframe tbody tr th:only-of-type {\n",
       "        vertical-align: middle;\n",
       "    }\n",
       "\n",
       "    .dataframe tbody tr th {\n",
       "        vertical-align: top;\n",
       "    }\n",
       "\n",
       "    .dataframe thead th {\n",
       "        text-align: right;\n",
       "    }\n",
       "</style>\n",
       "<table border=\"1\" class=\"dataframe\">\n",
       "  <thead>\n",
       "    <tr style=\"text-align: right;\">\n",
       "      <th></th>\n",
       "      <th>labels</th>\n",
       "      <th>kor_sentence</th>\n",
       "    </tr>\n",
       "  </thead>\n",
       "  <tbody>\n",
       "    <tr>\n",
       "      <th>0</th>\n",
       "      <td>0</td>\n",
       "      <td>Gran에 따르면, 그 회사는 회사가 성장하고 있는 곳이지만, 모든 생산을 러시아로...</td>\n",
       "    </tr>\n",
       "    <tr>\n",
       "      <th>1</th>\n",
       "      <td>0</td>\n",
       "      <td>테크노폴리스는 컴퓨터 기술과 통신 분야에서 일하는 회사들을 유치하기 위해 10만 평...</td>\n",
       "    </tr>\n",
       "    <tr>\n",
       "      <th>2</th>\n",
       "      <td>2</td>\n",
       "      <td>국제 전자산업 회사인 엘코텍은 탈린 공장에서 수십 명의 직원을 해고했으며, 이전의 ...</td>\n",
       "    </tr>\n",
       "    <tr>\n",
       "      <th>3</th>\n",
       "      <td>1</td>\n",
       "      <td>새로운 생산공장으로 인해 회사는 예상되는 수요 증가를 충족시킬 수 있는 능력을 증가...</td>\n",
       "    </tr>\n",
       "    <tr>\n",
       "      <th>4</th>\n",
       "      <td>1</td>\n",
       "      <td>2009-2012년 회사의 업데이트된 전략에 따르면, Basware는 20% - 4...</td>\n",
       "    </tr>\n",
       "  </tbody>\n",
       "</table>\n",
       "</div>\n",
       "      <button class=\"colab-df-convert\" onclick=\"convertToInteractive('df-c15aecbb-4c3f-4448-b634-5b4eb77048b1')\"\n",
       "              title=\"Convert this dataframe to an interactive table.\"\n",
       "              style=\"display:none;\">\n",
       "        \n",
       "  <svg xmlns=\"http://www.w3.org/2000/svg\" height=\"24px\"viewBox=\"0 0 24 24\"\n",
       "       width=\"24px\">\n",
       "    <path d=\"M0 0h24v24H0V0z\" fill=\"none\"/>\n",
       "    <path d=\"M18.56 5.44l.94 2.06.94-2.06 2.06-.94-2.06-.94-.94-2.06-.94 2.06-2.06.94zm-11 1L8.5 8.5l.94-2.06 2.06-.94-2.06-.94L8.5 2.5l-.94 2.06-2.06.94zm10 10l.94 2.06.94-2.06 2.06-.94-2.06-.94-.94-2.06-.94 2.06-2.06.94z\"/><path d=\"M17.41 7.96l-1.37-1.37c-.4-.4-.92-.59-1.43-.59-.52 0-1.04.2-1.43.59L10.3 9.45l-7.72 7.72c-.78.78-.78 2.05 0 2.83L4 21.41c.39.39.9.59 1.41.59.51 0 1.02-.2 1.41-.59l7.78-7.78 2.81-2.81c.8-.78.8-2.07 0-2.86zM5.41 20L4 18.59l7.72-7.72 1.47 1.35L5.41 20z\"/>\n",
       "  </svg>\n",
       "      </button>\n",
       "      \n",
       "  <style>\n",
       "    .colab-df-container {\n",
       "      display:flex;\n",
       "      flex-wrap:wrap;\n",
       "      gap: 12px;\n",
       "    }\n",
       "\n",
       "    .colab-df-convert {\n",
       "      background-color: #E8F0FE;\n",
       "      border: none;\n",
       "      border-radius: 50%;\n",
       "      cursor: pointer;\n",
       "      display: none;\n",
       "      fill: #1967D2;\n",
       "      height: 32px;\n",
       "      padding: 0 0 0 0;\n",
       "      width: 32px;\n",
       "    }\n",
       "\n",
       "    .colab-df-convert:hover {\n",
       "      background-color: #E2EBFA;\n",
       "      box-shadow: 0px 1px 2px rgba(60, 64, 67, 0.3), 0px 1px 3px 1px rgba(60, 64, 67, 0.15);\n",
       "      fill: #174EA6;\n",
       "    }\n",
       "\n",
       "    [theme=dark] .colab-df-convert {\n",
       "      background-color: #3B4455;\n",
       "      fill: #D2E3FC;\n",
       "    }\n",
       "\n",
       "    [theme=dark] .colab-df-convert:hover {\n",
       "      background-color: #434B5C;\n",
       "      box-shadow: 0px 1px 3px 1px rgba(0, 0, 0, 0.15);\n",
       "      filter: drop-shadow(0px 1px 2px rgba(0, 0, 0, 0.3));\n",
       "      fill: #FFFFFF;\n",
       "    }\n",
       "  </style>\n",
       "\n",
       "      <script>\n",
       "        const buttonEl =\n",
       "          document.querySelector('#df-c15aecbb-4c3f-4448-b634-5b4eb77048b1 button.colab-df-convert');\n",
       "        buttonEl.style.display =\n",
       "          google.colab.kernel.accessAllowed ? 'block' : 'none';\n",
       "\n",
       "        async function convertToInteractive(key) {\n",
       "          const element = document.querySelector('#df-c15aecbb-4c3f-4448-b634-5b4eb77048b1');\n",
       "          const dataTable =\n",
       "            await google.colab.kernel.invokeFunction('convertToInteractive',\n",
       "                                                     [key], {});\n",
       "          if (!dataTable) return;\n",
       "\n",
       "          const docLinkHtml = 'Like what you see? Visit the ' +\n",
       "            '<a target=\"_blank\" href=https://colab.research.google.com/notebooks/data_table.ipynb>data table notebook</a>'\n",
       "            + ' to learn more about interactive tables.';\n",
       "          element.innerHTML = '';\n",
       "          dataTable['output_type'] = 'display_data';\n",
       "          await google.colab.output.renderOutput(dataTable, element);\n",
       "          const docLink = document.createElement('div');\n",
       "          docLink.innerHTML = docLinkHtml;\n",
       "          element.appendChild(docLink);\n",
       "        }\n",
       "      </script>\n",
       "    </div>\n",
       "  </div>\n",
       "  "
      ],
      "text/plain": [
       "   labels                                       kor_sentence\n",
       "0       0  Gran에 따르면, 그 회사는 회사가 성장하고 있는 곳이지만, 모든 생산을 러시아로...\n",
       "1       0  테크노폴리스는 컴퓨터 기술과 통신 분야에서 일하는 회사들을 유치하기 위해 10만 평...\n",
       "2       2  국제 전자산업 회사인 엘코텍은 탈린 공장에서 수십 명의 직원을 해고했으며, 이전의 ...\n",
       "3       1  새로운 생산공장으로 인해 회사는 예상되는 수요 증가를 충족시킬 수 있는 능력을 증가...\n",
       "4       1  2009-2012년 회사의 업데이트된 전략에 따르면, Basware는 20% - 4..."
      ]
     },
     "execution_count": 215,
     "metadata": {},
     "output_type": "execute_result"
    }
   ],
   "source": [
    "data[:5]"
   ]
  },
  {
   "cell_type": "code",
   "execution_count": 216,
   "metadata": {
    "colab": {
     "base_uri": "https://localhost:8080/"
    },
    "executionInfo": {
     "elapsed": 15,
     "status": "ok",
     "timestamp": 1660958297213,
     "user": {
      "displayName": "손현오",
      "userId": "06550482445240444986"
     },
     "user_tz": -540
    },
    "id": "MrxT6Z30G8w9",
    "outputId": "8b61334d-2a20-46af-92fa-d9b510113f9a"
   },
   "outputs": [
    {
     "name": "stdout",
     "output_type": "stream",
     "text": [
      "<class 'pandas.core.frame.DataFrame'>\n",
      "RangeIndex: 4846 entries, 0 to 4845\n",
      "Data columns (total 2 columns):\n",
      " #   Column        Non-Null Count  Dtype \n",
      "---  ------        --------------  ----- \n",
      " 0   labels        4846 non-null   int64 \n",
      " 1   kor_sentence  4846 non-null   object\n",
      "dtypes: int64(1), object(1)\n",
      "memory usage: 75.8+ KB\n"
     ]
    }
   ],
   "source": [
    "data.info()"
   ]
  },
  {
   "cell_type": "code",
   "execution_count": 217,
   "metadata": {
    "colab": {
     "base_uri": "https://localhost:8080/"
    },
    "executionInfo": {
     "elapsed": 13,
     "status": "ok",
     "timestamp": 1660958297213,
     "user": {
      "displayName": "손현오",
      "userId": "06550482445240444986"
     },
     "user_tz": -540
    },
    "id": "QmA8gOPYG8w-",
    "outputId": "41c31fa2-5e6d-4a00-c26a-7e137d6edcea"
   },
   "outputs": [
    {
     "name": "stdout",
     "output_type": "stream",
     "text": [
      "결측값 여부 : False\n"
     ]
    }
   ],
   "source": [
    "print('결측값 여부 :',data.isnull().values.any())"
   ]
  },
  {
   "cell_type": "code",
   "execution_count": 218,
   "metadata": {
    "colab": {
     "base_uri": "https://localhost:8080/"
    },
    "executionInfo": {
     "elapsed": 12,
     "status": "ok",
     "timestamp": 1660958297214,
     "user": {
      "displayName": "손현오",
      "userId": "06550482445240444986"
     },
     "user_tz": -540
    },
    "id": "eb_x5N8TG8w_",
    "outputId": "f6e5c23a-dfed-4436-b1be-d9b83bf00757"
   },
   "outputs": [
    {
     "name": "stdout",
     "output_type": "stream",
     "text": [
      "kor_sentence 열의 유니크한 값 : 4827\n"
     ]
    }
   ],
   "source": [
    "print('kor_sentence 열의 유니크한 값 :',data['kor_sentence'].nunique())"
   ]
  },
  {
   "cell_type": "code",
   "execution_count": 219,
   "metadata": {
    "executionInfo": {
     "elapsed": 11,
     "status": "ok",
     "timestamp": 1660958297214,
     "user": {
      "displayName": "손현오",
      "userId": "06550482445240444986"
     },
     "user_tz": -540
    },
    "id": "MB5DN8zyG8w_"
   },
   "outputs": [],
   "source": [
    "duplicate = data[data.duplicated()]"
   ]
  },
  {
   "cell_type": "code",
   "execution_count": 220,
   "metadata": {
    "colab": {
     "base_uri": "https://localhost:8080/",
     "height": 551
    },
    "executionInfo": {
     "elapsed": 10,
     "status": "ok",
     "timestamp": 1660958297214,
     "user": {
      "displayName": "손현오",
      "userId": "06550482445240444986"
     },
     "user_tz": -540
    },
    "id": "ngZL3Hy1G8xA",
    "outputId": "d7bc643f-c181-4363-daca-35f5a9e4e365"
   },
   "outputs": [
    {
     "data": {
      "text/html": [
       "\n",
       "  <div id=\"df-bcdce365-c8d4-4dbd-ac7d-5b1ce55da1fe\">\n",
       "    <div class=\"colab-df-container\">\n",
       "      <div>\n",
       "<style scoped>\n",
       "    .dataframe tbody tr th:only-of-type {\n",
       "        vertical-align: middle;\n",
       "    }\n",
       "\n",
       "    .dataframe tbody tr th {\n",
       "        vertical-align: top;\n",
       "    }\n",
       "\n",
       "    .dataframe thead th {\n",
       "        text-align: right;\n",
       "    }\n",
       "</style>\n",
       "<table border=\"1\" class=\"dataframe\">\n",
       "  <thead>\n",
       "    <tr style=\"text-align: right;\">\n",
       "      <th></th>\n",
       "      <th>labels</th>\n",
       "      <th>kor_sentence</th>\n",
       "    </tr>\n",
       "  </thead>\n",
       "  <tbody>\n",
       "    <tr>\n",
       "      <th>1099</th>\n",
       "      <td>0</td>\n",
       "      <td>이 발표 내용에 대한 책임은 전적으로 발행자에게 있습니다.</td>\n",
       "    </tr>\n",
       "    <tr>\n",
       "      <th>1394</th>\n",
       "      <td>0</td>\n",
       "      <td>핀란드 헬싱키에 본사를 둔 레민카이넨 그룹은 토목 공학, 건축 계약, 기술 건축 서...</td>\n",
       "    </tr>\n",
       "    <tr>\n",
       "      <th>1416</th>\n",
       "      <td>0</td>\n",
       "      <td>이 보고서는 블랙 앤 데커, 피스카스, 피스카스 브랜드, 후스크바르나 아웃도어 프로...</td>\n",
       "    </tr>\n",
       "    <tr>\n",
       "      <th>2396</th>\n",
       "      <td>0</td>\n",
       "      <td>알스트롬의 주가는 나스닥 OMX 헬싱키에서 인용되고 있다.</td>\n",
       "    </tr>\n",
       "    <tr>\n",
       "      <th>2567</th>\n",
       "      <td>0</td>\n",
       "      <td>SSH 통신 보안 코퍼레이션은 핀란드 헬싱키에 본사를 두고 있다.</td>\n",
       "    </tr>\n",
       "    <tr>\n",
       "      <th>2889</th>\n",
       "      <td>0</td>\n",
       "      <td>재정적인 세부사항은 공개되지 않았다.</td>\n",
       "    </tr>\n",
       "    <tr>\n",
       "      <th>2890</th>\n",
       "      <td>0</td>\n",
       "      <td>재정적인 세부사항은 공개되지 않았다.</td>\n",
       "    </tr>\n",
       "    <tr>\n",
       "      <th>2892</th>\n",
       "      <td>0</td>\n",
       "      <td>금융 조건은 공개되지 않았다.</td>\n",
       "    </tr>\n",
       "    <tr>\n",
       "      <th>3050</th>\n",
       "      <td>0</td>\n",
       "      <td>재정적인 세부사항은 제공되지 않았다.</td>\n",
       "    </tr>\n",
       "    <tr>\n",
       "      <th>3051</th>\n",
       "      <td>0</td>\n",
       "      <td>재정적인 세부사항은 공개되지 않았다.</td>\n",
       "    </tr>\n",
       "    <tr>\n",
       "      <th>3094</th>\n",
       "      <td>0</td>\n",
       "      <td>Proha Plc (Euronext :7327)는 오늘 (5월 19일) 완전 소유 ...</td>\n",
       "    </tr>\n",
       "    <tr>\n",
       "      <th>3206</th>\n",
       "      <td>0</td>\n",
       "      <td>공정 및 자원, 산업기계, 건축, 건축, 건설, 전기, 운송, 전자, 화학, 석유화...</td>\n",
       "    </tr>\n",
       "    <tr>\n",
       "      <th>3350</th>\n",
       "      <td>0</td>\n",
       "      <td>판매 가격은 공개되지 않았다.</td>\n",
       "    </tr>\n",
       "    <tr>\n",
       "      <th>3538</th>\n",
       "      <td>0</td>\n",
       "      <td>아스포의 그룹 구조와 비즈니스 운영은 미리 정의된 일정 없이 지속적으로 개발됩니다.</td>\n",
       "    </tr>\n",
       "    <tr>\n",
       "      <th>3617</th>\n",
       "      <td>0</td>\n",
       "      <td>2007년에 에트플랜은 125.2m의 회전율을 기록했다.</td>\n",
       "    </tr>\n",
       "    <tr>\n",
       "      <th>3938</th>\n",
       "      <td>0</td>\n",
       "      <td>그 거래의 가치는 공개되지 않았다.</td>\n",
       "    </tr>\n",
       "  </tbody>\n",
       "</table>\n",
       "</div>\n",
       "      <button class=\"colab-df-convert\" onclick=\"convertToInteractive('df-bcdce365-c8d4-4dbd-ac7d-5b1ce55da1fe')\"\n",
       "              title=\"Convert this dataframe to an interactive table.\"\n",
       "              style=\"display:none;\">\n",
       "        \n",
       "  <svg xmlns=\"http://www.w3.org/2000/svg\" height=\"24px\"viewBox=\"0 0 24 24\"\n",
       "       width=\"24px\">\n",
       "    <path d=\"M0 0h24v24H0V0z\" fill=\"none\"/>\n",
       "    <path d=\"M18.56 5.44l.94 2.06.94-2.06 2.06-.94-2.06-.94-.94-2.06-.94 2.06-2.06.94zm-11 1L8.5 8.5l.94-2.06 2.06-.94-2.06-.94L8.5 2.5l-.94 2.06-2.06.94zm10 10l.94 2.06.94-2.06 2.06-.94-2.06-.94-.94-2.06-.94 2.06-2.06.94z\"/><path d=\"M17.41 7.96l-1.37-1.37c-.4-.4-.92-.59-1.43-.59-.52 0-1.04.2-1.43.59L10.3 9.45l-7.72 7.72c-.78.78-.78 2.05 0 2.83L4 21.41c.39.39.9.59 1.41.59.51 0 1.02-.2 1.41-.59l7.78-7.78 2.81-2.81c.8-.78.8-2.07 0-2.86zM5.41 20L4 18.59l7.72-7.72 1.47 1.35L5.41 20z\"/>\n",
       "  </svg>\n",
       "      </button>\n",
       "      \n",
       "  <style>\n",
       "    .colab-df-container {\n",
       "      display:flex;\n",
       "      flex-wrap:wrap;\n",
       "      gap: 12px;\n",
       "    }\n",
       "\n",
       "    .colab-df-convert {\n",
       "      background-color: #E8F0FE;\n",
       "      border: none;\n",
       "      border-radius: 50%;\n",
       "      cursor: pointer;\n",
       "      display: none;\n",
       "      fill: #1967D2;\n",
       "      height: 32px;\n",
       "      padding: 0 0 0 0;\n",
       "      width: 32px;\n",
       "    }\n",
       "\n",
       "    .colab-df-convert:hover {\n",
       "      background-color: #E2EBFA;\n",
       "      box-shadow: 0px 1px 2px rgba(60, 64, 67, 0.3), 0px 1px 3px 1px rgba(60, 64, 67, 0.15);\n",
       "      fill: #174EA6;\n",
       "    }\n",
       "\n",
       "    [theme=dark] .colab-df-convert {\n",
       "      background-color: #3B4455;\n",
       "      fill: #D2E3FC;\n",
       "    }\n",
       "\n",
       "    [theme=dark] .colab-df-convert:hover {\n",
       "      background-color: #434B5C;\n",
       "      box-shadow: 0px 1px 3px 1px rgba(0, 0, 0, 0.15);\n",
       "      filter: drop-shadow(0px 1px 2px rgba(0, 0, 0, 0.3));\n",
       "      fill: #FFFFFF;\n",
       "    }\n",
       "  </style>\n",
       "\n",
       "      <script>\n",
       "        const buttonEl =\n",
       "          document.querySelector('#df-bcdce365-c8d4-4dbd-ac7d-5b1ce55da1fe button.colab-df-convert');\n",
       "        buttonEl.style.display =\n",
       "          google.colab.kernel.accessAllowed ? 'block' : 'none';\n",
       "\n",
       "        async function convertToInteractive(key) {\n",
       "          const element = document.querySelector('#df-bcdce365-c8d4-4dbd-ac7d-5b1ce55da1fe');\n",
       "          const dataTable =\n",
       "            await google.colab.kernel.invokeFunction('convertToInteractive',\n",
       "                                                     [key], {});\n",
       "          if (!dataTable) return;\n",
       "\n",
       "          const docLinkHtml = 'Like what you see? Visit the ' +\n",
       "            '<a target=\"_blank\" href=https://colab.research.google.com/notebooks/data_table.ipynb>data table notebook</a>'\n",
       "            + ' to learn more about interactive tables.';\n",
       "          element.innerHTML = '';\n",
       "          dataTable['output_type'] = 'display_data';\n",
       "          await google.colab.output.renderOutput(dataTable, element);\n",
       "          const docLink = document.createElement('div');\n",
       "          docLink.innerHTML = docLinkHtml;\n",
       "          element.appendChild(docLink);\n",
       "        }\n",
       "      </script>\n",
       "    </div>\n",
       "  </div>\n",
       "  "
      ],
      "text/plain": [
       "      labels                                       kor_sentence\n",
       "1099       0                   이 발표 내용에 대한 책임은 전적으로 발행자에게 있습니다.\n",
       "1394       0  핀란드 헬싱키에 본사를 둔 레민카이넨 그룹은 토목 공학, 건축 계약, 기술 건축 서...\n",
       "1416       0  이 보고서는 블랙 앤 데커, 피스카스, 피스카스 브랜드, 후스크바르나 아웃도어 프로...\n",
       "2396       0                   알스트롬의 주가는 나스닥 OMX 헬싱키에서 인용되고 있다.\n",
       "2567       0               SSH 통신 보안 코퍼레이션은 핀란드 헬싱키에 본사를 두고 있다.\n",
       "2889       0                               재정적인 세부사항은 공개되지 않았다.\n",
       "2890       0                               재정적인 세부사항은 공개되지 않았다.\n",
       "2892       0                                   금융 조건은 공개되지 않았다.\n",
       "3050       0                               재정적인 세부사항은 제공되지 않았다.\n",
       "3051       0                               재정적인 세부사항은 공개되지 않았다.\n",
       "3094       0  Proha Plc (Euronext :7327)는 오늘 (5월 19일) 완전 소유 ...\n",
       "3206       0  공정 및 자원, 산업기계, 건축, 건축, 건설, 전기, 운송, 전자, 화학, 석유화...\n",
       "3350       0                                   판매 가격은 공개되지 않았다.\n",
       "3538       0     아스포의 그룹 구조와 비즈니스 운영은 미리 정의된 일정 없이 지속적으로 개발됩니다.\n",
       "3617       0                    2007년에 에트플랜은 125.2m의 회전율을 기록했다.\n",
       "3938       0                                그 거래의 가치는 공개되지 않았다."
      ]
     },
     "execution_count": 220,
     "metadata": {},
     "output_type": "execute_result"
    }
   ],
   "source": [
    "duplicate"
   ]
  },
  {
   "cell_type": "code",
   "execution_count": 221,
   "metadata": {
    "colab": {
     "base_uri": "https://localhost:8080/"
    },
    "executionInfo": {
     "elapsed": 11,
     "status": "ok",
     "timestamp": 1660958297215,
     "user": {
      "displayName": "손현오",
      "userId": "06550482445240444986"
     },
     "user_tz": -540
    },
    "id": "JsT4OkqIG8xA",
    "outputId": "d425d6b9-c121-4a57-a3b7-4dd0096bb82c"
   },
   "outputs": [
    {
     "name": "stdout",
     "output_type": "stream",
     "text": [
      "총 샘플의 수 : 4827\n"
     ]
    }
   ],
   "source": [
    "# 중복 제거\n",
    "data.drop_duplicates(subset=['kor_sentence'], inplace=True)\n",
    "print('총 샘플의 수 :',len(data))"
   ]
  },
  {
   "cell_type": "code",
   "execution_count": 222,
   "metadata": {
    "colab": {
     "base_uri": "https://localhost:8080/",
     "height": 283
    },
    "executionInfo": {
     "elapsed": 551,
     "status": "ok",
     "timestamp": 1660958297757,
     "user": {
      "displayName": "손현오",
      "userId": "06550482445240444986"
     },
     "user_tz": -540
    },
    "id": "SznXRsk7G8xA",
    "outputId": "84af6f15-4873-42ec-9fe9-db4ad6e47b83"
   },
   "outputs": [
    {
     "data": {
      "text/plain": [
       "<matplotlib.axes._subplots.AxesSubplot at 0x7f3240b6bbd0>"
      ]
     },
     "execution_count": 222,
     "metadata": {},
     "output_type": "execute_result"
    },
    {
     "data": {
      "image/png": "[encoded data removed]",
      "text/plain": [
       "<Figure size 432x288 with 1 Axes>"
      ]
     },
     "metadata": {
      "needs_background": "light"
     },
     "output_type": "display_data"
    }
   ],
   "source": [
    "\n",
    "data['labels'].value_counts().plot(kind='bar')"
   ]
  },
  {
   "cell_type": "code",
   "execution_count": 223,
   "metadata": {
    "colab": {
     "base_uri": "https://localhost:8080/"
    },
    "executionInfo": {
     "elapsed": 13,
     "status": "ok",
     "timestamp": 1660958297758,
     "user": {
      "displayName": "손현오",
      "userId": "06550482445240444986"
     },
     "user_tz": -540
    },
    "id": "Ma5h5d0QG8xB",
    "outputId": "dc21b5e2-97d7-47f4-976e-a2080455d57a"
   },
   "outputs": [
    {
     "name": "stdout",
     "output_type": "stream",
     "text": [
      "레이블의 분포\n",
      "   labels  count\n",
      "0       0   2861\n",
      "1       1   1362\n",
      "2       2    604\n"
     ]
    }
   ],
   "source": [
    "print('레이블의 분포')\n",
    "print(data.groupby('labels').size().reset_index(name='count'))"
   ]
  },
  {
   "cell_type": "code",
   "execution_count": 224,
   "metadata": {
    "colab": {
     "base_uri": "https://localhost:8080/"
    },
    "executionInfo": {
     "elapsed": 10,
     "status": "ok",
     "timestamp": 1660958297759,
     "user": {
      "displayName": "손현오",
      "userId": "06550482445240444986"
     },
     "user_tz": -540
    },
    "id": "OeflMDaoG8xB",
    "outputId": "81a62b83-7173-42bb-b71e-9ad95cc9276a"
   },
   "outputs": [
    {
     "name": "stdout",
     "output_type": "stream",
     "text": [
      "중립의 비율 = 59.271%\n",
      "긍정의 비율 = 28.216%\n",
      "부정의 비율 = 12.513%\n"
     ]
    }
   ],
   "source": [
    "print(f'중립의 비율 = {round(data[\"labels\"].value_counts()[0]/len(data) * 100,3)}%')\n",
    "print(f'긍정의 비율 = {round(data[\"labels\"].value_counts()[1]/len(data) * 100,3)}%')\n",
    "print(f'부정의 비율 = {round(data[\"labels\"].value_counts()[2]/len(data) * 100,3)}%')"
   ]
  },
  {
   "cell_type": "code",
   "execution_count": 225,
   "metadata": {
    "executionInfo": {
     "elapsed": 7,
     "status": "ok",
     "timestamp": 1660958297759,
     "user": {
      "displayName": "손현오",
      "userId": "06550482445240444986"
     },
     "user_tz": -540
    },
    "id": "vqn_ZGKGG8xB"
   },
   "outputs": [],
   "source": [
    "mecab = mecab.MeCab()"
   ]
  },
  {
   "cell_type": "code",
   "execution_count": 226,
   "metadata": {
    "executionInfo": {
     "elapsed": 2420,
     "status": "ok",
     "timestamp": 1660958300172,
     "user": {
      "displayName": "손현오",
      "userId": "06550482445240444986"
     },
     "user_tz": -540
    },
    "id": "aY76EE1jG8xC"
   },
   "outputs": [],
   "source": [
    "data['tokenized'] = data['kor_sentence'].apply(mecab.morphs)"
   ]
  },
  {
   "cell_type": "code",
   "execution_count": 227,
   "metadata": {
    "colab": {
     "base_uri": "https://localhost:8080/",
     "height": 424
    },
    "executionInfo": {
     "elapsed": 27,
     "status": "ok",
     "timestamp": 1660958300173,
     "user": {
      "displayName": "손현오",
      "userId": "06550482445240444986"
     },
     "user_tz": -540
    },
    "id": "Aom8uphwG8xC",
    "outputId": "1ad4fc0d-2e35-4377-f6b3-47e4b83f6fec"
   },
   "outputs": [
    {
     "data": {
      "text/html": [
       "\n",
       "  <div id=\"df-d1bf7999-0d83-4be4-9510-82af258c9dd1\">\n",
       "    <div class=\"colab-df-container\">\n",
       "      <div>\n",
       "<style scoped>\n",
       "    .dataframe tbody tr th:only-of-type {\n",
       "        vertical-align: middle;\n",
       "    }\n",
       "\n",
       "    .dataframe tbody tr th {\n",
       "        vertical-align: top;\n",
       "    }\n",
       "\n",
       "    .dataframe thead th {\n",
       "        text-align: right;\n",
       "    }\n",
       "</style>\n",
       "<table border=\"1\" class=\"dataframe\">\n",
       "  <thead>\n",
       "    <tr style=\"text-align: right;\">\n",
       "      <th></th>\n",
       "      <th>labels</th>\n",
       "      <th>kor_sentence</th>\n",
       "      <th>tokenized</th>\n",
       "    </tr>\n",
       "  </thead>\n",
       "  <tbody>\n",
       "    <tr>\n",
       "      <th>0</th>\n",
       "      <td>0</td>\n",
       "      <td>Gran에 따르면, 그 회사는 회사가 성장하고 있는 곳이지만, 모든 생산을 러시아로...</td>\n",
       "      <td>[Gran, 에, 따르, 면, ,, 그, 회사, 는, 회사, 가, 성장, 하, 고,...</td>\n",
       "    </tr>\n",
       "    <tr>\n",
       "      <th>1</th>\n",
       "      <td>0</td>\n",
       "      <td>테크노폴리스는 컴퓨터 기술과 통신 분야에서 일하는 회사들을 유치하기 위해 10만 평...</td>\n",
       "      <td>[테크노폴리스, 는, 컴퓨터, 기술, 과, 통신, 분야, 에서, 일, 하, 는, 회...</td>\n",
       "    </tr>\n",
       "    <tr>\n",
       "      <th>2</th>\n",
       "      <td>2</td>\n",
       "      <td>국제 전자산업 회사인 엘코텍은 탈린 공장에서 수십 명의 직원을 해고했으며, 이전의 ...</td>\n",
       "      <td>[국제, 전자, 산업, 회사, 인, 엘코, 텍, 은, 탈린, 공장, 에서, 수십, ...</td>\n",
       "    </tr>\n",
       "    <tr>\n",
       "      <th>3</th>\n",
       "      <td>1</td>\n",
       "      <td>새로운 생산공장으로 인해 회사는 예상되는 수요 증가를 충족시킬 수 있는 능력을 증가...</td>\n",
       "      <td>[새로운, 생산, 공장, 으로, 인해, 회사, 는, 예상, 되, 는, 수요, 증가,...</td>\n",
       "    </tr>\n",
       "    <tr>\n",
       "      <th>4</th>\n",
       "      <td>1</td>\n",
       "      <td>2009-2012년 회사의 업데이트된 전략에 따르면, Basware는 20% - 4...</td>\n",
       "      <td>[2009, -, 2012, 년, 회사, 의, 업데이트, 된, 전략, 에, 따르, ...</td>\n",
       "    </tr>\n",
       "    <tr>\n",
       "      <th>...</th>\n",
       "      <td>...</td>\n",
       "      <td>...</td>\n",
       "      <td>...</td>\n",
       "    </tr>\n",
       "    <tr>\n",
       "      <th>4841</th>\n",
       "      <td>2</td>\n",
       "      <td>런던 마켓워치 -- 은행주의 반등이 FTSE 100지수의 약세를 상쇄하지 못하면서 ...</td>\n",
       "      <td>[런던, 마켓, 워치, --, 은행주의, 반, 등, 이, FTSE, 100, 지수,...</td>\n",
       "    </tr>\n",
       "    <tr>\n",
       "      <th>4842</th>\n",
       "      <td>0</td>\n",
       "      <td>린쿠스키아의 맥주 판매량은 416만 리터로 6.5% 감소했으며 카우노 알루스의 맥주...</td>\n",
       "      <td>[린, 쿠, 스키아, 의, 맥주, 판매량, 은, 416, 만, 리터, 로, 6, ....</td>\n",
       "    </tr>\n",
       "    <tr>\n",
       "      <th>4843</th>\n",
       "      <td>2</td>\n",
       "      <td>영업이익은 2007년 68.8 mn에서 35.4 mn으로 떨어졌으며, 선박 판매 이...</td>\n",
       "      <td>[영업, 이익, 은, 2007, 년, 68, ., 8, mn, 에서, 35, ., ...</td>\n",
       "    </tr>\n",
       "    <tr>\n",
       "      <th>4844</th>\n",
       "      <td>2</td>\n",
       "      <td>페이퍼 부문 순매출은 2008년 2분기 241.1 mn에서 2009년 2분기 221...</td>\n",
       "      <td>[페이퍼, 부문, 순, 매출, 은, 2008, 년, 2, 분기, 241, ., 1,...</td>\n",
       "    </tr>\n",
       "    <tr>\n",
       "      <th>4845</th>\n",
       "      <td>2</td>\n",
       "      <td>핀란드에서의 판매는 1월에 10.5% 감소한 반면, 국외에서의 판매는 17% 감소했다.</td>\n",
       "      <td>[핀란드, 에서, 의, 판매, 는, 1, 월, 에, 10, ., 5, %, 감소, ...</td>\n",
       "    </tr>\n",
       "  </tbody>\n",
       "</table>\n",
       "<p>4827 rows × 3 columns</p>\n",
       "</div>\n",
       "      <button class=\"colab-df-convert\" onclick=\"convertToInteractive('df-d1bf7999-0d83-4be4-9510-82af258c9dd1')\"\n",
       "              title=\"Convert this dataframe to an interactive table.\"\n",
       "              style=\"display:none;\">\n",
       "        \n",
       "  <svg xmlns=\"http://www.w3.org/2000/svg\" height=\"24px\"viewBox=\"0 0 24 24\"\n",
       "       width=\"24px\">\n",
       "    <path d=\"M0 0h24v24H0V0z\" fill=\"none\"/>\n",
       "    <path d=\"M18.56 5.44l.94 2.06.94-2.06 2.06-.94-2.06-.94-.94-2.06-.94 2.06-2.06.94zm-11 1L8.5 8.5l.94-2.06 2.06-.94-2.06-.94L8.5 2.5l-.94 2.06-2.06.94zm10 10l.94 2.06.94-2.06 2.06-.94-2.06-.94-.94-2.06-.94 2.06-2.06.94z\"/><path d=\"M17.41 7.96l-1.37-1.37c-.4-.4-.92-.59-1.43-.59-.52 0-1.04.2-1.43.59L10.3 9.45l-7.72 7.72c-.78.78-.78 2.05 0 2.83L4 21.41c.39.39.9.59 1.41.59.51 0 1.02-.2 1.41-.59l7.78-7.78 2.81-2.81c.8-.78.8-2.07 0-2.86zM5.41 20L4 18.59l7.72-7.72 1.47 1.35L5.41 20z\"/>\n",
       "  </svg>\n",
       "      </button>\n",
       "      \n",
       "  <style>\n",
       "    .colab-df-container {\n",
       "      display:flex;\n",
       "      flex-wrap:wrap;\n",
       "      gap: 12px;\n",
       "    }\n",
       "\n",
       "    .colab-df-convert {\n",
       "      background-color: #E8F0FE;\n",
       "      border: none;\n",
       "      border-radius: 50%;\n",
       "      cursor: pointer;\n",
       "      display: none;\n",
       "      fill: #1967D2;\n",
       "      height: 32px;\n",
       "      padding: 0 0 0 0;\n",
       "      width: 32px;\n",
       "    }\n",
       "\n",
       "    .colab-df-convert:hover {\n",
       "      background-color: #E2EBFA;\n",
       "      box-shadow: 0px 1px 2px rgba(60, 64, 67, 0.3), 0px 1px 3px 1px rgba(60, 64, 67, 0.15);\n",
       "      fill: #174EA6;\n",
       "    }\n",
       "\n",
       "    [theme=dark] .colab-df-convert {\n",
       "      background-color: #3B4455;\n",
       "      fill: #D2E3FC;\n",
       "    }\n",
       "\n",
       "    [theme=dark] .colab-df-convert:hover {\n",
       "      background-color: #434B5C;\n",
       "      box-shadow: 0px 1px 3px 1px rgba(0, 0, 0, 0.15);\n",
       "      filter: drop-shadow(0px 1px 2px rgba(0, 0, 0, 0.3));\n",
       "      fill: #FFFFFF;\n",
       "    }\n",
       "  </style>\n",
       "\n",
       "      <script>\n",
       "        const buttonEl =\n",
       "          document.querySelector('#df-d1bf7999-0d83-4be4-9510-82af258c9dd1 button.colab-df-convert');\n",
       "        buttonEl.style.display =\n",
       "          google.colab.kernel.accessAllowed ? 'block' : 'none';\n",
       "\n",
       "        async function convertToInteractive(key) {\n",
       "          const element = document.querySelector('#df-d1bf7999-0d83-4be4-9510-82af258c9dd1');\n",
       "          const dataTable =\n",
       "            await google.colab.kernel.invokeFunction('convertToInteractive',\n",
       "                                                     [key], {});\n",
       "          if (!dataTable) return;\n",
       "\n",
       "          const docLinkHtml = 'Like what you see? Visit the ' +\n",
       "            '<a target=\"_blank\" href=https://colab.research.google.com/notebooks/data_table.ipynb>data table notebook</a>'\n",
       "            + ' to learn more about interactive tables.';\n",
       "          element.innerHTML = '';\n",
       "          dataTable['output_type'] = 'display_data';\n",
       "          await google.colab.output.renderOutput(dataTable, element);\n",
       "          const docLink = document.createElement('div');\n",
       "          docLink.innerHTML = docLinkHtml;\n",
       "          element.appendChild(docLink);\n",
       "        }\n",
       "      </script>\n",
       "    </div>\n",
       "  </div>\n",
       "  "
      ],
      "text/plain": [
       "      labels                                       kor_sentence  \\\n",
       "0          0  Gran에 따르면, 그 회사는 회사가 성장하고 있는 곳이지만, 모든 생산을 러시아로...   \n",
       "1          0  테크노폴리스는 컴퓨터 기술과 통신 분야에서 일하는 회사들을 유치하기 위해 10만 평...   \n",
       "2          2  국제 전자산업 회사인 엘코텍은 탈린 공장에서 수십 명의 직원을 해고했으며, 이전의 ...   \n",
       "3          1  새로운 생산공장으로 인해 회사는 예상되는 수요 증가를 충족시킬 수 있는 능력을 증가...   \n",
       "4          1  2009-2012년 회사의 업데이트된 전략에 따르면, Basware는 20% - 4...   \n",
       "...      ...                                                ...   \n",
       "4841       2  런던 마켓워치 -- 은행주의 반등이 FTSE 100지수의 약세를 상쇄하지 못하면서 ...   \n",
       "4842       0  린쿠스키아의 맥주 판매량은 416만 리터로 6.5% 감소했으며 카우노 알루스의 맥주...   \n",
       "4843       2  영업이익은 2007년 68.8 mn에서 35.4 mn으로 떨어졌으며, 선박 판매 이...   \n",
       "4844       2  페이퍼 부문 순매출은 2008년 2분기 241.1 mn에서 2009년 2분기 221...   \n",
       "4845       2   핀란드에서의 판매는 1월에 10.5% 감소한 반면, 국외에서의 판매는 17% 감소했다.   \n",
       "\n",
       "                                              tokenized  \n",
       "0     [Gran, 에, 따르, 면, ,, 그, 회사, 는, 회사, 가, 성장, 하, 고,...  \n",
       "1     [테크노폴리스, 는, 컴퓨터, 기술, 과, 통신, 분야, 에서, 일, 하, 는, 회...  \n",
       "2     [국제, 전자, 산업, 회사, 인, 엘코, 텍, 은, 탈린, 공장, 에서, 수십, ...  \n",
       "3     [새로운, 생산, 공장, 으로, 인해, 회사, 는, 예상, 되, 는, 수요, 증가,...  \n",
       "4     [2009, -, 2012, 년, 회사, 의, 업데이트, 된, 전략, 에, 따르, ...  \n",
       "...                                                 ...  \n",
       "4841  [런던, 마켓, 워치, --, 은행주의, 반, 등, 이, FTSE, 100, 지수,...  \n",
       "4842  [린, 쿠, 스키아, 의, 맥주, 판매량, 은, 416, 만, 리터, 로, 6, ....  \n",
       "4843  [영업, 이익, 은, 2007, 년, 68, ., 8, mn, 에서, 35, ., ...  \n",
       "4844  [페이퍼, 부문, 순, 매출, 은, 2008, 년, 2, 분기, 241, ., 1,...  \n",
       "4845  [핀란드, 에서, 의, 판매, 는, 1, 월, 에, 10, ., 5, %, 감소, ...  \n",
       "\n",
       "[4827 rows x 3 columns]"
      ]
     },
     "execution_count": 227,
     "metadata": {},
     "output_type": "execute_result"
    }
   ],
   "source": [
    "data"
   ]
  },
  {
   "cell_type": "code",
   "execution_count": 228,
   "metadata": {
    "executionInfo": {
     "elapsed": 23,
     "status": "ok",
     "timestamp": 1660958300174,
     "user": {
      "displayName": "손현오",
      "userId": "06550482445240444986"
     },
     "user_tz": -540
    },
    "id": "cnz59L68Ttl1"
   },
   "outputs": [],
   "source": [
    "stopwords = ['으로', '면', '도', '는', '다', '의', '가', '이',\n",
    "             '은', '한', '에', '하', '고', '을',\n",
    "             '를', '인', '듯', '과', '와', '네',\n",
    "             '들', '듯', '지', '임', '게','에서','시','위해']\n",
    "\n",
    "def stopwords_(stop):\n",
    "  return [i for i in stop if i not in stopwords]"
   ]
  },
  {
   "cell_type": "code",
   "execution_count": 229,
   "metadata": {
    "executionInfo": {
     "elapsed": 23,
     "status": "ok",
     "timestamp": 1660958300174,
     "user": {
      "displayName": "손현오",
      "userId": "06550482445240444986"
     },
     "user_tz": -540
    },
    "id": "dWi8Um1rTvPh"
   },
   "outputs": [],
   "source": [
    "stop_word = '거 링 이 디 스 전 거 명 곳 위 때 내 제 중 더 를 링 나 사 이 내 디 개 요 아 휴 아이구 아이쿠 아이고 어 나 우리 저희 따라 의해 을 를 에 의 가 으로 로 에게 뿐이다 의거하여 근거하여 입각하여 기준으로 예하면 예를 들면 예를 들자면 저 소인 소생 저희 지말고 하지마 하지마라 다른 물론 또한 그리고 비길수 없다 해서는 안된다 뿐만 아니라 만이 아니다 만은 아니다 막론하고 관계없이 그치지 않다 그러나 그런데 하지만 든간에 논하지 않다 따지지 않다 설사 비록 더라도 아니면 만 못하다 하는 편이 낫다 불문하고 향하여 향해서 향하다 쪽으로 틈타 이용하여 타다 오르다 제외하고 이 외에 이 밖에 하여야 비로소 한다면 몰라도 외에도 이곳 여기 부터 기점으로 따라서 할 생각이다 하려고하다 이리하여 그리하여 그렇게 함으로써 하지만 일때 할때 앞에서 중에서 보는데서 으로써 로써 까지 해야한다 일것이다 반드시 할줄알다 할수있다 할수있어 임에 틀림없다 한다면 등 등등 제 겨우 단지 다만 할뿐 딩동 댕그 대해서 대하여 대하면 훨씬 얼마나 얼마만큼 얼마큼 남짓 여 얼마간 약간 다소 좀 조금 다수 몇 얼마 지만 하물며 또한 그러나 그렇지만 하지만 이외에도 대해 말하자면 뿐이다 다음에 반대로 반대로 말하자면 이와 반대로 바꾸어서 말하면 바꾸어서 한다면 만약 그렇지않으면 까악 툭 딱 삐걱거리다 보드득 비걱거리다 꽈당 응당 해야한다 에 가서 각 각각 여러분 각종 각자 제각기 하도록하다 와 과 그러므로 그래서 고로 한 까닭에 하기 때문에 거니와 이지만 대하여 관하여 관한 과연 실로 아니나다를가 생각한대로 진짜로 한적이있다 하곤하였다 하 하하 허허 아하 거바 와 오 왜 어째서 무엇때문에 어찌 하겠는가 무슨 어디 어느곳 더군다나 하물며 더욱이는 어느때 언제 야 이봐 어이 여보시오 흐흐 흥 휴 헉헉 헐떡헐떡 영차 여차 어기여차 끙끙 아야 앗 아야 콸콸 졸졸 좍좍 뚝뚝 주룩주룩 솨 우르르 그래도 또 그리고 바꾸어말하면 바꾸어말하자면 혹은 혹시 답다 및 그에 따르는 때가 되어 즉 지든지 설령 가령 하더라도 할지라도 일지라도 지든지 몇 거의 하마터면 인젠 이젠 된바에야 된이상 만큼 어찌됏든 그위에 게다가 점에서 보아 비추어 보아 고려하면 하게될것이다 일것이다 비교적 좀 보다더 비하면 시키다 하게하다 할만하다 의해서 연이서 이어서 잇따라 뒤따라 뒤이어 결국 의지하여 기대여 통하여 자마자 더욱더 불구하고 얼마든지 마음대로 주저하지 않고 곧 즉시 바로 당장 하자마자 밖에 안된다 하면된다 그래 그렇지 요컨대 다시 말하자면 바꿔 말하면 즉 구체적으로 말하자면 시작하여 시초에 이상 허 헉 허걱 바와같이 해도좋다 해도된다 게다가 더구나 하물며 와르르 팍 퍽 펄렁 동안 이래 하고있었다 이었다 에서 로부터 까지 예하면 했어요 해요 함께 같이 더불어 마저 마저도 양자 모두 습니다 가까스로 하려고하다 즈음하여 다른 다른 방면으로 해봐요 습니까 했어요 말할것도 없고 무릎쓰고 개의치않고 하는것만 못하다 하는것이 낫다 매 매번 들 모 어느것 어느 로써 갖고말하자면 어디 어느쪽 어느것 어느해 어느 년도 라 해도 언젠가 어떤것 어느것 저기 저쪽 저것 그때 그럼 그러면 요만한걸 그래 그때 저것만큼 그저 이르기까지 할 줄 안다 할 힘이 있다 너 너희 당신 어찌 설마 차라리 할지언정 할지라도 할망정 할지언정 구토하다 게우다 토하다 메쓰겁다 옆사람 퉤 쳇 의거하여 근거하여 의해 따라 힘입어 그 다음 버금 두번째로 기타 첫번째로 나머지는 그중에서 견지에서 형식으로 쓰여 입장에서 위해서 단지 의해되다 하도록시키다 뿐만아니라 반대로 전후 전자 앞의것 잠시 잠깐 하면서 그렇지만 다음에 그러한즉 그런즉 남들 아무거나 어찌하든지 같다 비슷하다 예컨대 이럴정도로 어떻게 만약 만일 위에서 서술한바와같이 인 듯하다 하지 않는다면 만약에 무엇 무슨 어느 어떤 아래윗 조차 한데 그럼에도 불구하고 여전히 심지어 까지도 조차도 하지 않도록 않기 위하여 때 시각 무렵 시간 동안 어때 어떠한 하여금 네 예 우선 누구 누가 알겠는가 아무도 줄은모른다 줄은 몰랏다 하는 김에 겸사겸사 하는바 그런 까닭에 한 이유는 그러니 그러니까 때문에 그 너희 그들 너희들 타인 것 것들 너 위하여 공동으로 동시에 하기 위하여 어찌하여 무엇때문에 붕붕 윙윙 나 우리 엉엉 휘익 윙윙 오호 아하 어쨋든 만 못하다 하기보다는 차라리 하는 편이 낫다 흐흐 놀라다 상대적으로 말하자면 마치 아니라면 쉿 그렇지 않으면 그렇지 않다면 안 그러면 아니었다면 하든지 아니면 이라면 좋아 알았어 하는것도 그만이다 어쩔수 없다 하나 일 일반적으로 일단 한켠으로는 오자마자 이렇게되면 이와같다면 전부 한마디 한항목 근거로 하기에 아울러 하지 않도록 않기 위해서 이르기까지 이 되다 로 인하여 까닭으로 이유만으로 이로 인하여 그래서 이 때문에 그러므로 그런 까닭에 알 수 있다 결론을 낼 수 있다 으로 인하여 있다 어떤것 관계가 있다 관련이 있다 연관되다 어떤것들 에 대해 이리하여 그리하여 여부 하기보다는 하느니 하면 할수록 운운 이러이러하다 하구나 하도다 다시말하면 다음으로 에 있다 에 달려 있다 우리 우리들 오히려 하기는한데 어떻게 어떻해 어찌됏어 어때 어째서 본대로 자 이 이쪽 여기 이것 이번 이렇게말하자면 이런 이러한 이와 같은 요만큼 요만한 것 얼마 안 되는 것 이만큼 이 정도의 이렇게 많은 것 이와 같다 이때 이렇구나 것과 같이 끼익 삐걱 따위 와 같은 사람들 부류의 사람들 왜냐하면 중의하나 오직 오로지 에 한하다 하기만 하면 도착하다 까지 미치다 도달하다 정도에 이르다 할 지경이다 결과에 이르다 관해서는 여러분 하고 있다 한 후 혼자 자기 자기집 자신 우에 종합한것과같이 총적으로 보면 총적으로 말하면 총적으로 대로 하다 으로서 참 그만이다 할 따름이다 쿵 탕탕 쾅쾅 둥둥 봐 봐라 아이야 아니 와아 응 아이 참나 년 월 일 령 영 일 이 삼 사 오 육 륙 칠 팔 구 이천육 이천칠 이천팔 이천구 하나 둘 셋 넷 다섯 여섯 일곱 여덟 아홉 령 영 이 있 하 것 들 그 되 수 이 보 않 없 나 사람 주 아니 등 같 우리 때 년 가 한 지 대하 오 말 일 그렇 위하 때문 그것 두 말하 알 그러나 받 못하 일 그런 또 문제 더 사회 많 그리고 좋 크 따르 중 나오 가지 씨 시키 만들 지금 생각하 그러 속 하나 집 살 모르 적 월 데 자신 안 어떤 내 내 경우 명 생각 시간 그녀 다시 이런 앞 보이 번 나 다른 어떻 여자 개 전 들 사실 이렇 점 싶 말 정도 좀 원 잘 통하 놓'\n",
    "\n",
    "other_words = stop_word.split()\n",
    "\n",
    "def other_words_(stop):\n",
    "  return [i for i in stop if i not in other_words]"
   ]
  },
  {
   "cell_type": "code",
   "execution_count": 230,
   "metadata": {
    "executionInfo": {
     "elapsed": 23,
     "status": "ok",
     "timestamp": 1660958300175,
     "user": {
      "displayName": "손현오",
      "userId": "06550482445240444986"
     },
     "user_tz": -540
    },
    "id": "qGga2CgqUPAc"
   },
   "outputs": [],
   "source": [
    "# data.loc[:,'tokenized'].apply(stopwords_)"
   ]
  },
  {
   "cell_type": "code",
   "execution_count": 231,
   "metadata": {
    "colab": {
     "base_uri": "https://localhost:8080/"
    },
    "executionInfo": {
     "elapsed": 23,
     "status": "ok",
     "timestamp": 1660958300176,
     "user": {
      "displayName": "손현오",
      "userId": "06550482445240444986"
     },
     "user_tz": -540
    },
    "id": "FfYCcegMG8xC",
    "outputId": "cf1577d2-2169-4c99-b009-f67b7dc3373b"
   },
   "outputs": [
    {
     "name": "stdout",
     "output_type": "stream",
     "text": [
      "본문의 개수: 4827\n",
      "레이블의 개수: 4827\n"
     ]
    }
   ],
   "source": [
    "X_data = data['tokenized']\n",
    "y_data = data['labels']\n",
    "print('본문의 개수: {}'.format(len(X_data)))\n",
    "print('레이블의 개수: {}'.format(len(y_data)))"
   ]
  },
  {
   "cell_type": "code",
   "execution_count": 232,
   "metadata": {
    "executionInfo": {
     "elapsed": 17,
     "status": "ok",
     "timestamp": 1660958300176,
     "user": {
      "displayName": "손현오",
      "userId": "06550482445240444986"
     },
     "user_tz": -540
    },
    "id": "DrsQt6V9G8xD"
   },
   "outputs": [],
   "source": [
    "X_train, X_test, y_train, y_test = train_test_split(X_data, y_data, test_size=0.2, random_state=0, stratify=y_data)\n"
   ]
  },
  {
   "cell_type": "code",
   "execution_count": 233,
   "metadata": {
    "colab": {
     "base_uri": "https://localhost:8080/"
    },
    "executionInfo": {
     "elapsed": 16,
     "status": "ok",
     "timestamp": 1660958300176,
     "user": {
      "displayName": "손현오",
      "userId": "06550482445240444986"
     },
     "user_tz": -540
    },
    "id": "LgjVXEO9G8xD",
    "outputId": "0b72d7b4-3262-4769-d6f0-f85c01a40708"
   },
   "outputs": [
    {
     "name": "stdout",
     "output_type": "stream",
     "text": [
      "훈련 샘플의 개수 : 3861\n",
      "테스트 샘플의 개수 : 966\n"
     ]
    }
   ],
   "source": [
    "\n",
    "print('훈련 샘플의 개수 :', len(X_train))\n",
    "print('테스트 샘플의 개수 :', len(X_test))"
   ]
  },
  {
   "cell_type": "code",
   "execution_count": 234,
   "metadata": {
    "colab": {
     "base_uri": "https://localhost:8080/"
    },
    "executionInfo": {
     "elapsed": 14,
     "status": "ok",
     "timestamp": 1660958300177,
     "user": {
      "displayName": "손현오",
      "userId": "06550482445240444986"
     },
     "user_tz": -540
    },
    "id": "2HiGY8fNG8xD",
    "outputId": "8796b055-d0aa-4fc6-f1f4-80a08265f226"
   },
   "outputs": [
    {
     "name": "stdout",
     "output_type": "stream",
     "text": [
      "--------훈련 데이터의 비율-----------\n",
      "중립 = 59.285%\n",
      "긍정 = 28.205%\n",
      "부정 = 12.51%\n"
     ]
    }
   ],
   "source": [
    "print('--------훈련 데이터의 비율-----------')\n",
    "print(f'중립 = {round(y_train.value_counts()[0]/len(y_train) * 100,3)}%')\n",
    "print(f'긍정 = {round(y_train.value_counts()[1]/len(y_train) * 100,3)}%')\n",
    "print(f'부정 = {round(y_train.value_counts()[2]/len(y_train) * 100,3)}%')"
   ]
  },
  {
   "cell_type": "code",
   "execution_count": 235,
   "metadata": {
    "colab": {
     "base_uri": "https://localhost:8080/"
    },
    "executionInfo": {
     "elapsed": 29,
     "status": "ok",
     "timestamp": 1660958300727,
     "user": {
      "displayName": "손현오",
      "userId": "06550482445240444986"
     },
     "user_tz": -540
    },
    "id": "Al_ATPwYG8xE",
    "outputId": "35d3961f-c3a1-416a-9020-2fc2eafd79c9"
   },
   "outputs": [
    {
     "name": "stdout",
     "output_type": "stream",
     "text": [
      "--------테스트 데이터의 비율-----------\n",
      "중립 = 59.213%\n",
      "긍정 = 28.261%\n",
      "부정 = 12.526%\n"
     ]
    }
   ],
   "source": [
    "\n",
    "print('--------테스트 데이터의 비율-----------')\n",
    "print(f'중립 = {round(y_test.value_counts()[0]/len(y_test) * 100,3)}%')\n",
    "print(f'긍정 = {round(y_test.value_counts()[1]/len(y_test) * 100,3)}%')\n",
    "print(f'부정 = {round(y_test.value_counts()[2]/len(y_test) * 100,3)}%')"
   ]
  },
  {
   "cell_type": "code",
   "execution_count": 236,
   "metadata": {
    "colab": {
     "base_uri": "https://localhost:8080/"
    },
    "executionInfo": {
     "elapsed": 26,
     "status": "ok",
     "timestamp": 1660958300727,
     "user": {
      "displayName": "손현오",
      "userId": "06550482445240444986"
     },
     "user_tz": -540
    },
    "id": "vAQdDSEnG8xE",
    "outputId": "15a22f2f-5cfc-4967-bd55-e729b24d6d03"
   },
   "outputs": [
    {
     "name": "stdout",
     "output_type": "stream",
     "text": [
      "[[390, 199, 4, 299, 170, 128, 2, 150, 15, 299, 170, 2075, 331, 10, 4, 1156, 5, 567, 29, 20, 22, 151, 10, 16, 14, 3, 1], [1157, 1158, 4, 92, 5, 43, 36, 50, 13, 47, 208, 16, 13, 3, 1], [5, 95, 2, 55, 7, 19, 1, 38, 44, 15, 48, 1, 52, 44, 22, 50, 13, 3, 1], [515, 4, 2076, 4504, 6, 84, 283, 157, 8, 609, 638, 160, 2, 2480, 474, 1066, 157, 6, 2077, 29, 20, 8, 284, 13, 3, 1], [165, 339, 7, 1426, 265, 76, 15, 1426, 332, 76, 699, 18, 475, 212, 1]]\n",
      "[[868, 792, 7, 113, 140, 6, 88, 332, 27, 17, 12, 114, 77, 1], [97, 1917, 211, 184, 2, 4295, 2503, 23, 401, 24, 770, 6, 174, 364, 34, 16, 190, 61, 20, 5, 69, 28, 330, 7, 51, 13, 3, 1], [672, 160, 376, 882, 30, 238, 31, 4, 156, 2, 3463, 1088, 5, 21, 5286, 159, 2, 964, 12, 2873, 10, 4, 20, 5, 69, 1143, 13, 3, 1], [412, 38, 65, 150, 7, 58, 11, 231, 95, 2, 19, 1, 48, 206, 17, 15, 19, 1, 43, 206, 17, 18, 452, 3, 1], [71, 11, 43, 26, 511, 40, 653, 19, 205, 98, 571, 105, 1, 5241, 2, 1196, 328, 3118, 19, 37, 71, 6, 84, 271, 2474, 7, 71, 11, 19, 26, 123, 38, 26, 90, 2, 1196, 328, 12, 71, 11, 48, 26, 48, 40, 1202, 6, 349, 29, 82, 80, 1]]\n"
     ]
    }
   ],
   "source": [
    "tokenizer = Tokenizer()\n",
    "tokenizer.fit_on_texts(X_train)\n",
    "X_train_encoded = tokenizer.texts_to_sequences(X_train)\n",
    "X_test_encoded = tokenizer.texts_to_sequences(X_test)\n",
    "print(X_train_encoded[:5])\n",
    "print(X_test_encoded[:5])"
   ]
  },
  {
   "cell_type": "code",
   "execution_count": 237,
   "metadata": {
    "colab": {
     "base_uri": "https://localhost:8080/"
    },
    "executionInfo": {
     "elapsed": 23,
     "status": "ok",
     "timestamp": 1660958300728,
     "user": {
      "displayName": "손현오",
      "userId": "06550482445240444986"
     },
     "user_tz": -540
    },
    "id": "avESaJXOG8xE",
    "outputId": "6227ce61-b612-42b6-d10f-63bc38a6c861"
   },
   "outputs": [
    {
     "name": "stdout",
     "output_type": "stream",
     "text": [
      "8942\n"
     ]
    }
   ],
   "source": [
    "word_to_index = tokenizer.word_index\n",
    "vocab_size = len(word_to_index) + 1\n",
    "print(vocab_size)"
   ]
  },
  {
   "cell_type": "code",
   "execution_count": 238,
   "metadata": {
    "colab": {
     "base_uri": "https://localhost:8080/",
     "height": 315
    },
    "executionInfo": {
     "elapsed": 19,
     "status": "ok",
     "timestamp": 1660958300728,
     "user": {
      "displayName": "손현오",
      "userId": "06550482445240444986"
     },
     "user_tz": -540
    },
    "id": "QdTdXYE3G8xE",
    "outputId": "dfa1d4e1-5593-4146-d308-b6bad1202f21"
   },
   "outputs": [
    {
     "name": "stdout",
     "output_type": "stream",
     "text": [
      "본문의 최대 길이 : 76\n",
      "본문의 평균 길이 : 28.235431235431236\n"
     ]
    },
    {
     "data": {
      "image/png": "[encoded data removed]",
      "text/plain": [
       "<Figure size 432x288 with 1 Axes>"
      ]
     },
     "metadata": {
      "needs_background": "light"
     },
     "output_type": "display_data"
    }
   ],
   "source": [
    "print('본문의 최대 길이 :',max(len(sent) for sent in X_train))\n",
    "print('본문의 평균 길이 :',sum(map(len, X_train))/len(X_train))\n",
    "plt.hist([len(sent) for sent in X_train], bins=50)\n",
    "plt.xlabel('length of samples')\n",
    "plt.ylabel('number of samples')\n",
    "plt.show()"
   ]
  },
  {
   "cell_type": "code",
   "execution_count": 239,
   "metadata": {
    "executionInfo": {
     "elapsed": 16,
     "status": "ok",
     "timestamp": 1660958300729,
     "user": {
      "displayName": "손현오",
      "userId": "06550482445240444986"
     },
     "user_tz": -540
    },
    "id": "5igG2MciG8xF"
   },
   "outputs": [],
   "source": [
    "\n",
    "max_len = 76"
   ]
  },
  {
   "cell_type": "code",
   "execution_count": 240,
   "metadata": {
    "executionInfo": {
     "elapsed": 16,
     "status": "ok",
     "timestamp": 1660958300730,
     "user": {
      "displayName": "손현오",
      "userId": "06550482445240444986"
     },
     "user_tz": -540
    },
    "id": "PH8xYZqBG8xF"
   },
   "outputs": [],
   "source": [
    "X_train_encoded = pad_sequences(X_train_encoded, maxlen=max_len)\n",
    "X_test_encoded = pad_sequences(X_test_encoded, maxlen=max_len)"
   ]
  },
  {
   "cell_type": "code",
   "execution_count": 241,
   "metadata": {
    "colab": {
     "base_uri": "https://localhost:8080/"
    },
    "executionInfo": {
     "elapsed": 15,
     "status": "ok",
     "timestamp": 1660958300730,
     "user": {
      "displayName": "손현오",
      "userId": "06550482445240444986"
     },
     "user_tz": -540
    },
    "id": "zxMiWxr9G8xF",
    "outputId": "846db8e2-6bd4-4d1d-e320-b6ede157f274"
   },
   "outputs": [
    {
     "data": {
      "text/plain": [
       "(3861, 76)"
      ]
     },
     "execution_count": 241,
     "metadata": {},
     "output_type": "execute_result"
    }
   ],
   "source": [
    "\n",
    "X_train_encoded.shape"
   ]
  },
  {
   "cell_type": "code",
   "execution_count": 242,
   "metadata": {
    "colab": {
     "base_uri": "https://localhost:8080/"
    },
    "executionInfo": {
     "elapsed": 12,
     "status": "ok",
     "timestamp": 1660958300730,
     "user": {
      "displayName": "손현오",
      "userId": "06550482445240444986"
     },
     "user_tz": -540
    },
    "id": "_fgfj9EYG8xF",
    "outputId": "43868070-07f5-4be6-b3dc-88661f83f56f"
   },
   "outputs": [
    {
     "data": {
      "text/plain": [
       "(966, 76)"
      ]
     },
     "execution_count": 242,
     "metadata": {},
     "output_type": "execute_result"
    }
   ],
   "source": [
    "X_test_encoded.shape"
   ]
  },
  {
   "cell_type": "code",
   "execution_count": 243,
   "metadata": {
    "executionInfo": {
     "elapsed": 10,
     "status": "ok",
     "timestamp": 1660958300730,
     "user": {
      "displayName": "손현오",
      "userId": "06550482445240444986"
     },
     "user_tz": -540
    },
    "id": "PYx3wxeKG8xF"
   },
   "outputs": [],
   "source": [
    "\n",
    "from tensorflow.keras.layers import Embedding, Dense, LSTM\n",
    "from tensorflow.keras.models import Sequential\n",
    "from tensorflow.keras.models import load_model\n",
    "from tensorflow.keras.utils import to_categorical\n",
    "from tensorflow.keras.callbacks import EarlyStopping, ModelCheckpoint"
   ]
  },
  {
   "cell_type": "code",
   "execution_count": 244,
   "metadata": {
    "executionInfo": {
     "elapsed": 10,
     "status": "ok",
     "timestamp": 1660958300731,
     "user": {
      "displayName": "손현오",
      "userId": "06550482445240444986"
     },
     "user_tz": -540
    },
    "id": "zal4TsEmG8xG"
   },
   "outputs": [],
   "source": [
    "\n",
    "y_train = to_categorical(y_train)\n",
    "y_test = to_categorical(y_test)"
   ]
  },
  {
   "cell_type": "code",
   "execution_count": 245,
   "metadata": {
    "colab": {
     "base_uri": "https://localhost:8080/"
    },
    "executionInfo": {
     "elapsed": 57343,
     "status": "ok",
     "timestamp": 1660958358064,
     "user": {
      "displayName": "손현오",
      "userId": "06550482445240444986"
     },
     "user_tz": -540
    },
    "id": "-qMv853DG8xG",
    "outputId": "1b6644b8-a35f-46c3-a43e-49f017875756"
   },
   "outputs": [
    {
     "name": "stdout",
     "output_type": "stream",
     "text": [
      "Epoch 1/15\n",
      "97/97 [==============================] - ETA: 0s - loss: 0.8757 - acc: 0.6159\n",
      "Epoch 1: val_acc improved from -inf to 0.71281, saving model to best_model.h5\n",
      "97/97 [==============================] - 15s 131ms/step - loss: 0.8757 - acc: 0.6159 - val_loss: 0.7120 - val_acc: 0.7128\n",
      "Epoch 2/15\n",
      "97/97 [==============================] - ETA: 0s - loss: 0.6049 - acc: 0.7338\n",
      "Epoch 2: val_acc improved from 0.71281 to 0.72445, saving model to best_model.h5\n",
      "97/97 [==============================] - 12s 120ms/step - loss: 0.6049 - acc: 0.7338 - val_loss: 0.6951 - val_acc: 0.7245\n",
      "Epoch 3/15\n",
      "97/97 [==============================] - ETA: 0s - loss: 0.3579 - acc: 0.8582\n",
      "Epoch 3: val_acc improved from 0.72445 to 0.74515, saving model to best_model.h5\n",
      "97/97 [==============================] - 12s 124ms/step - loss: 0.3579 - acc: 0.8582 - val_loss: 0.7392 - val_acc: 0.7451\n",
      "Epoch 4/15\n",
      "96/97 [============================>.] - ETA: 0s - loss: 0.1771 - acc: 0.9411\n",
      "Epoch 4: val_acc did not improve from 0.74515\n",
      "97/97 [==============================] - 6s 62ms/step - loss: 0.1764 - acc: 0.9414 - val_loss: 0.8709 - val_acc: 0.7245\n",
      "Epoch 5/15\n",
      "97/97 [==============================] - ETA: 0s - loss: 0.0904 - acc: 0.9731\n",
      "Epoch 5: val_acc did not improve from 0.74515\n",
      "97/97 [==============================] - 6s 63ms/step - loss: 0.0904 - acc: 0.9731 - val_loss: 1.0885 - val_acc: 0.7426\n",
      "Epoch 6/15\n",
      "97/97 [==============================] - ETA: 0s - loss: 0.0554 - acc: 0.9848\n",
      "Epoch 6: val_acc did not improve from 0.74515\n",
      "97/97 [==============================] - 6s 62ms/step - loss: 0.0554 - acc: 0.9848 - val_loss: 1.1483 - val_acc: 0.7335\n",
      "Epoch 6: early stopping\n"
     ]
    }
   ],
   "source": [
    "embedding_dim = 64\n",
    "hidden_units = 64\n",
    "num_classes = 3\n",
    "\n",
    "model = Sequential()\n",
    "model.add(Embedding(vocab_size, embedding_dim))\n",
    "model.add(LSTM(hidden_units))\n",
    "model.add(Dense(num_classes, activation='softmax'))\n",
    "\n",
    "es = EarlyStopping(monitor='val_loss', mode='min', verbose=1, patience=4)\n",
    "mc = ModelCheckpoint('best_model.h5', monitor='val_acc', mode='max', verbose=1, save_best_only=True)\n",
    "\n",
    "model.compile(loss='categorical_crossentropy', optimizer='adam', metrics=['acc'])\n",
    "history = model.fit(X_train_encoded, y_train, epochs=15, callbacks=[es, mc], batch_size=32, validation_split=0.2)\n"
   ]
  },
  {
   "cell_type": "code",
   "execution_count": 246,
   "metadata": {
    "colab": {
     "base_uri": "https://localhost:8080/"
    },
    "executionInfo": {
     "elapsed": 1547,
     "status": "ok",
     "timestamp": 1660958359599,
     "user": {
      "displayName": "손현오",
      "userId": "06550482445240444986"
     },
     "user_tz": -540
    },
    "id": "JAVpk5XZWuoI",
    "outputId": "b7795bd6-c4b1-47c0-dc41-b80c42a9c548"
   },
   "outputs": [
    {
     "name": "stdout",
     "output_type": "stream",
     "text": [
      "31/31 [==============================] - 1s 13ms/step - loss: 0.6538 - acc: 0.7619\n",
      "\n",
      " 테스트 정확도: 0.7619\n"
     ]
    }
   ],
   "source": [
    "loaded_model = load_model('best_model.h5')\n",
    "print(\"\\n 테스트 정확도: %.4f\" % (loaded_model.evaluate(X_test_encoded, y_test)[1]))"
   ]
  },
  {
   "cell_type": "code",
   "execution_count": 247,
   "metadata": {
    "executionInfo": {
     "elapsed": 7,
     "status": "ok",
     "timestamp": 1660958359943,
     "user": {
      "displayName": "손현오",
      "userId": "06550482445240444986"
     },
     "user_tz": -540
    },
    "id": "9S_rdQXbLD8a"
   },
   "outputs": [],
   "source": [
    "# from google.colab import drive\n",
    "# drive.mount('/content/drive')"
   ]
  },
  {
   "cell_type": "code",
   "execution_count": 248,
   "metadata": {
    "colab": {
     "base_uri": "https://localhost:8080/",
     "height": 424
    },
    "executionInfo": {
     "elapsed": 7,
     "status": "ok",
     "timestamp": 1660958359944,
     "user": {
      "displayName": "손현오",
      "userId": "06550482445240444986"
     },
     "user_tz": -540
    },
    "id": "PNe3Fy5AG8xH",
    "outputId": "6be24679-0dd4-47f1-8d27-e7d2edc435c7"
   },
   "outputs": [
    {
     "data": {
      "text/html": [
       "\n",
       "  <div id=\"df-46475c82-4f30-461a-ba3a-3649897d0560\">\n",
       "    <div class=\"colab-df-container\">\n",
       "      <div>\n",
       "<style scoped>\n",
       "    .dataframe tbody tr th:only-of-type {\n",
       "        vertical-align: middle;\n",
       "    }\n",
       "\n",
       "    .dataframe tbody tr th {\n",
       "        vertical-align: top;\n",
       "    }\n",
       "\n",
       "    .dataframe thead th {\n",
       "        text-align: right;\n",
       "    }\n",
       "</style>\n",
       "<table border=\"1\" class=\"dataframe\">\n",
       "  <thead>\n",
       "    <tr style=\"text-align: right;\">\n",
       "      <th></th>\n",
       "      <th>contents</th>\n",
       "    </tr>\n",
       "  </thead>\n",
       "  <tbody>\n",
       "    <tr>\n",
       "      <th>0</th>\n",
       "      <td>오늘의 비즈니스 팁: 오늘 LIC 주택 금융 및 Adani Enterprises를...</td>\n",
       "    </tr>\n",
       "    <tr>\n",
       "      <th>1</th>\n",
       "      <td>Multibagger 주식: 이 알려지지 않은 주식은 2주 만에 Rs.618에서 ...</td>\n",
       "    </tr>\n",
       "    <tr>\n",
       "      <th>2</th>\n",
       "      <td>최고 추세 주식: 이 비료 회사의 주식은 최고 추세이며, 낮은 수준에서 45% 상...</td>\n",
       "    </tr>\n",
       "    <tr>\n",
       "      <th>3</th>\n",
       "      <td>Share Market News: 주식시장 하락의 시대는 지났습니까? 인도 및 미...</td>\n",
       "    </tr>\n",
       "    <tr>\n",
       "      <th>4</th>\n",
       "      <td>Share Market News: 이 의류 관련 회사의 주식은 투자자들을 부자로 ...</td>\n",
       "    </tr>\n",
       "    <tr>\n",
       "      <th>...</th>\n",
       "      <td>...</td>\n",
       "    </tr>\n",
       "    <tr>\n",
       "      <th>283</th>\n",
       "      <td>페니 주식: Vikas Lifecare Ltd를 포함한 이 6개 주식은 투자자의 ...</td>\n",
       "    </tr>\n",
       "    <tr>\n",
       "      <th>284</th>\n",
       "      <td>Godrej Industries 및 IndiaMart와 같은 주식은 가방을 채우고...</td>\n",
       "    </tr>\n",
       "    <tr>\n",
       "      <th>285</th>\n",
       "      <td>주식시장 폭락 이유: 이 뿐만 아니라 지난주 3일 연속 주식시장 폭락, 진짜 이유...</td>\n",
       "    </tr>\n",
       "    <tr>\n",
       "      <th>286</th>\n",
       "      <td>IPO 투자 팁: IPO에 투자할 때 다음 5가지 실수를 하지 마십시오</td>\n",
       "    </tr>\n",
       "    <tr>\n",
       "      <th>287</th>\n",
       "      <td>Zomato 주가: Zomato의 주가가 토마토 1kg 미만으로 떨어졌을 때 현재...</td>\n",
       "    </tr>\n",
       "  </tbody>\n",
       "</table>\n",
       "<p>288 rows × 1 columns</p>\n",
       "</div>\n",
       "      <button class=\"colab-df-convert\" onclick=\"convertToInteractive('df-46475c82-4f30-461a-ba3a-3649897d0560')\"\n",
       "              title=\"Convert this dataframe to an interactive table.\"\n",
       "              style=\"display:none;\">\n",
       "        \n",
       "  <svg xmlns=\"http://www.w3.org/2000/svg\" height=\"24px\"viewBox=\"0 0 24 24\"\n",
       "       width=\"24px\">\n",
       "    <path d=\"M0 0h24v24H0V0z\" fill=\"none\"/>\n",
       "    <path d=\"M18.56 5.44l.94 2.06.94-2.06 2.06-.94-2.06-.94-.94-2.06-.94 2.06-2.06.94zm-11 1L8.5 8.5l.94-2.06 2.06-.94-2.06-.94L8.5 2.5l-.94 2.06-2.06.94zm10 10l.94 2.06.94-2.06 2.06-.94-2.06-.94-.94-2.06-.94 2.06-2.06.94z\"/><path d=\"M17.41 7.96l-1.37-1.37c-.4-.4-.92-.59-1.43-.59-.52 0-1.04.2-1.43.59L10.3 9.45l-7.72 7.72c-.78.78-.78 2.05 0 2.83L4 21.41c.39.39.9.59 1.41.59.51 0 1.02-.2 1.41-.59l7.78-7.78 2.81-2.81c.8-.78.8-2.07 0-2.86zM5.41 20L4 18.59l7.72-7.72 1.47 1.35L5.41 20z\"/>\n",
       "  </svg>\n",
       "      </button>\n",
       "      \n",
       "  <style>\n",
       "    .colab-df-container {\n",
       "      display:flex;\n",
       "      flex-wrap:wrap;\n",
       "      gap: 12px;\n",
       "    }\n",
       "\n",
       "    .colab-df-convert {\n",
       "      background-color: #E8F0FE;\n",
       "      border: none;\n",
       "      border-radius: 50%;\n",
       "      cursor: pointer;\n",
       "      display: none;\n",
       "      fill: #1967D2;\n",
       "      height: 32px;\n",
       "      padding: 0 0 0 0;\n",
       "      width: 32px;\n",
       "    }\n",
       "\n",
       "    .colab-df-convert:hover {\n",
       "      background-color: #E2EBFA;\n",
       "      box-shadow: 0px 1px 2px rgba(60, 64, 67, 0.3), 0px 1px 3px 1px rgba(60, 64, 67, 0.15);\n",
       "      fill: #174EA6;\n",
       "    }\n",
       "\n",
       "    [theme=dark] .colab-df-convert {\n",
       "      background-color: #3B4455;\n",
       "      fill: #D2E3FC;\n",
       "    }\n",
       "\n",
       "    [theme=dark] .colab-df-convert:hover {\n",
       "      background-color: #434B5C;\n",
       "      box-shadow: 0px 1px 3px 1px rgba(0, 0, 0, 0.15);\n",
       "      filter: drop-shadow(0px 1px 2px rgba(0, 0, 0, 0.3));\n",
       "      fill: #FFFFFF;\n",
       "    }\n",
       "  </style>\n",
       "\n",
       "      <script>\n",
       "        const buttonEl =\n",
       "          document.querySelector('#df-46475c82-4f30-461a-ba3a-3649897d0560 button.colab-df-convert');\n",
       "        buttonEl.style.display =\n",
       "          google.colab.kernel.accessAllowed ? 'block' : 'none';\n",
       "\n",
       "        async function convertToInteractive(key) {\n",
       "          const element = document.querySelector('#df-46475c82-4f30-461a-ba3a-3649897d0560');\n",
       "          const dataTable =\n",
       "            await google.colab.kernel.invokeFunction('convertToInteractive',\n",
       "                                                     [key], {});\n",
       "          if (!dataTable) return;\n",
       "\n",
       "          const docLinkHtml = 'Like what you see? Visit the ' +\n",
       "            '<a target=\"_blank\" href=https://colab.research.google.com/notebooks/data_table.ipynb>data table notebook</a>'\n",
       "            + ' to learn more about interactive tables.';\n",
       "          element.innerHTML = '';\n",
       "          dataTable['output_type'] = 'display_data';\n",
       "          await google.colab.output.renderOutput(dataTable, element);\n",
       "          const docLink = document.createElement('div');\n",
       "          docLink.innerHTML = docLinkHtml;\n",
       "          element.appendChild(docLink);\n",
       "        }\n",
       "      </script>\n",
       "    </div>\n",
       "  </div>\n",
       "  "
      ],
      "text/plain": [
       "                                              contents\n",
       "0     오늘의 비즈니스 팁: 오늘 LIC 주택 금융 및 Adani Enterprises를...\n",
       "1     Multibagger 주식: 이 알려지지 않은 주식은 2주 만에 Rs.618에서 ...\n",
       "2     최고 추세 주식: 이 비료 회사의 주식은 최고 추세이며, 낮은 수준에서 45% 상...\n",
       "3     Share Market News: 주식시장 하락의 시대는 지났습니까? 인도 및 미...\n",
       "4     Share Market News: 이 의류 관련 회사의 주식은 투자자들을 부자로 ...\n",
       "..                                                 ...\n",
       "283   페니 주식: Vikas Lifecare Ltd를 포함한 이 6개 주식은 투자자의 ...\n",
       "284   Godrej Industries 및 IndiaMart와 같은 주식은 가방을 채우고...\n",
       "285   주식시장 폭락 이유: 이 뿐만 아니라 지난주 3일 연속 주식시장 폭락, 진짜 이유...\n",
       "286            IPO 투자 팁: IPO에 투자할 때 다음 5가지 실수를 하지 마십시오\n",
       "287   Zomato 주가: Zomato의 주가가 토마토 1kg 미만으로 떨어졌을 때 현재...\n",
       "\n",
       "[288 rows x 1 columns]"
      ]
     },
     "execution_count": 248,
     "metadata": {},
     "output_type": "execute_result"
    }
   ],
   "source": [
    "df_India = pd.read_excel('/content/drive/MyDrive/Intern/mywork/India_Finance.xlsx')\n",
    "df_India"
   ]
  },
  {
   "cell_type": "code",
   "execution_count": 249,
   "metadata": {
    "colab": {
     "base_uri": "https://localhost:8080/",
     "height": 832
    },
    "executionInfo": {
     "elapsed": 7,
     "status": "ok",
     "timestamp": 1660958359945,
     "user": {
      "displayName": "손현오",
      "userId": "06550482445240444986"
     },
     "user_tz": -540
    },
    "id": "jPGg8i-zXcdv",
    "outputId": "0264bb27-6cde-4fd8-f91b-36c965fa431d"
   },
   "outputs": [
    {
     "data": {
      "text/html": [
       "\n",
       "  <div id=\"df-d5e13c5d-98db-4c96-94a8-7a038645fa5f\">\n",
       "    <div class=\"colab-df-container\">\n",
       "      <div>\n",
       "<style scoped>\n",
       "    .dataframe tbody tr th:only-of-type {\n",
       "        vertical-align: middle;\n",
       "    }\n",
       "\n",
       "    .dataframe tbody tr th {\n",
       "        vertical-align: top;\n",
       "    }\n",
       "\n",
       "    .dataframe thead th {\n",
       "        text-align: right;\n",
       "    }\n",
       "</style>\n",
       "<table border=\"1\" class=\"dataframe\">\n",
       "  <thead>\n",
       "    <tr style=\"text-align: right;\">\n",
       "      <th></th>\n",
       "      <th>Unnamed: 0</th>\n",
       "      <th>title</th>\n",
       "      <th>Unnamed: 2</th>\n",
       "      <th>date</th>\n",
       "      <th>Unnamed: 4</th>\n",
       "      <th>url</th>\n",
       "      <th>content</th>\n",
       "      <th>contents</th>\n",
       "    </tr>\n",
       "  </thead>\n",
       "  <tbody>\n",
       "    <tr>\n",
       "      <th>0</th>\n",
       "      <td>0</td>\n",
       "      <td>Cambodian Property and Investment Growth 2022 ...</td>\n",
       "      <td>캄보디아 재산 및 투자 성장 2022 - 관점에서</td>\n",
       "      <td>August 17, 2022</td>\n",
       "      <td>2022 년 8 월 17 일</td>\n",
       "      <td>https://www.khmertimeskh.com/501133274/cambodi...</td>\n",
       "      <td>Cambodia continues to be an ideal destination ...</td>\n",
       "      <td>캄보디아는 계속해서 활동을 확장하고 아세안 지역 내에서 시장의 존재를 늘리기위한 투...</td>\n",
       "    </tr>\n",
       "    <tr>\n",
       "      <th>1</th>\n",
       "      <td>1</td>\n",
       "      <td>Across New York, renters desperate as soaring ...</td>\n",
       "      <td>뉴욕 전역에서 임대인이 주택 위기를 악화시켜 급증함에 따라 임차인이 절망적입니다.</td>\n",
       "      <td>August 10, 2022</td>\n",
       "      <td>2022 년 8 월 10 일</td>\n",
       "      <td>https://www.khmertimeskh.com/501129260/across-...</td>\n",
       "      <td>In mid-May, Paula Sevilla and her roommates jo...</td>\n",
       "      <td>5 월 중순, Paula Sevilla와 그녀의 룸메이트는 도시의 분쇄 주택 위기에...</td>\n",
       "    </tr>\n",
       "    <tr>\n",
       "      <th>2</th>\n",
       "      <td>2</td>\n",
       "      <td>Intercity Roads Approach Completion in Coastal...</td>\n",
       "      <td>해안 도로는 해안 주 시아누크 빌에서 완성됩니다</td>\n",
       "      <td>August 10, 2022</td>\n",
       "      <td>2022 년 8 월 10 일</td>\n",
       "      <td>https://www.khmertimeskh.com/501129262/interci...</td>\n",
       "      <td>Preah Sihanouk intercity roads are approaching...</td>\n",
       "      <td>Preah Sihanouk Intercity Roads는 공공 사업부 교통부 (MP...</td>\n",
       "    </tr>\n",
       "    <tr>\n",
       "      <th>3</th>\n",
       "      <td>3</td>\n",
       "      <td>Working to Forge a Win-Win and “Innovative” Fu...</td>\n",
       "      <td>Win-win과 \"혁신적인\"Future를 함께 만들기 위해 Phnom Penh의 첫...</td>\n",
       "      <td>August 8, 2022</td>\n",
       "      <td>2022 년 8 월 8 일</td>\n",
       "      <td>https://www.khmertimeskh.com/501127698/working...</td>\n",
       "      <td>On 5th of Aug, the channel presentation of the...</td>\n",
       "      <td>8 월 5 일, Lixin CEO Center-Phnom Penh의 첫 6A 등급 ...</td>\n",
       "    </tr>\n",
       "    <tr>\n",
       "      <th>4</th>\n",
       "      <td>4</td>\n",
       "      <td>Post-Covid, demand for luxury housing in India...</td>\n",
       "      <td>포스트 코비드, 인도의 고급 주택 수요 증가</td>\n",
       "      <td>August 3, 2022</td>\n",
       "      <td>2022 년 8 월 3 일</td>\n",
       "      <td>https://www.khmertimeskh.com/501124435/post-co...</td>\n",
       "      <td>The return of normalcy has brought buyer confi...</td>\n",
       "      <td>정상의 수익은 더 큰 주택에 대한 수요를 창출하는 것 외에도 부동산 시장에서 구매자...</td>\n",
       "    </tr>\n",
       "    <tr>\n",
       "      <th>...</th>\n",
       "      <td>...</td>\n",
       "      <td>...</td>\n",
       "      <td>...</td>\n",
       "      <td>...</td>\n",
       "      <td>...</td>\n",
       "      <td>...</td>\n",
       "      <td>...</td>\n",
       "      <td>...</td>\n",
       "    </tr>\n",
       "    <tr>\n",
       "      <th>295</th>\n",
       "      <td>295</td>\n",
       "      <td>Roma mansions in Moldova abandoned in economic...</td>\n",
       "      <td>몰도바의 로마 저택은 경제 출애굽기에 버렸다</td>\n",
       "      <td>November 4, 2020</td>\n",
       "      <td>2020 년 11 월 4 일</td>\n",
       "      <td>https://www.khmertimeskh.com/50779494/roma-man...</td>\n",
       "      <td>Extravagant mansions once owned by wealthy Rom...</td>\n",
       "      <td>부유 한 로마가 소유 한 사치스러운 저택은 몰도바 북부의 소로카의 겸손한 전통 주택...</td>\n",
       "    </tr>\n",
       "    <tr>\n",
       "      <th>296</th>\n",
       "      <td>296</td>\n",
       "      <td>Yemen’s ancient ‘Manhattan of the Desert’ risk...</td>\n",
       "      <td>예멘의 고대 '사막의 맨해튼'위험이 붕괴됩니다.</td>\n",
       "      <td>November 4, 2020</td>\n",
       "      <td>2020 년 11 월 4 일</td>\n",
       "      <td>https://www.khmertimeskh.com/50779485/yemens-a...</td>\n",
       "      <td>Dubbed the “Manhattan of the desert” for its c...</td>\n",
       "      <td>수세기 전의 초고층 빌딩을 위해“사막의 맨해튼”이라고 불리는 예멘의 고대 도시시 햄...</td>\n",
       "    </tr>\n",
       "    <tr>\n",
       "      <th>297</th>\n",
       "      <td>297</td>\n",
       "      <td>Cambodian market shows the most significant re...</td>\n",
       "      <td>캄보디아 시장은 가장 중요한 회복을 보여줍니다</td>\n",
       "      <td>November 4, 2020</td>\n",
       "      <td>2020 년 11 월 4 일</td>\n",
       "      <td>https://www.khmertimeskh.com/50779493/cambodia...</td>\n",
       "      <td>The Phnom Penh Real Estate Market in Q3 of 202...</td>\n",
       "      <td>2020 년 3 분기의 프놈펜 부동산 시장은 Covid-19 Pandemic의 압력...</td>\n",
       "    </tr>\n",
       "    <tr>\n",
       "      <th>298</th>\n",
       "      <td>298</td>\n",
       "      <td>Join YEPS 2020 for a massive marketing boost w...</td>\n",
       "      <td>$ 100,000의 대규모 마케팅 부스트를 위해 YEPS 2020에 가입하십시오!</td>\n",
       "      <td>October 28, 2020</td>\n",
       "      <td>2020 년 10 월 28 일</td>\n",
       "      <td>https://www.khmertimeskh.com/50777700/join-yep...</td>\n",
       "      <td>Boost your business’ exposure with the most an...</td>\n",
       "      <td>올해 가장 기대되는 소비자 엑스포로 비즈니스 노출을 늘리십시오!</td>\n",
       "    </tr>\n",
       "    <tr>\n",
       "      <th>299</th>\n",
       "      <td>299</td>\n",
       "      <td>Phnom Penh apartment rental updates – Septembe...</td>\n",
       "      <td>프놈펜 아파트 임대 업데이트 - 2020 년 9 월</td>\n",
       "      <td>October 28, 2020</td>\n",
       "      <td>2020 년 10 월 28 일</td>\n",
       "      <td>https://www.khmertimeskh.com/50777727/phnom-pe...</td>\n",
       "      <td>Apartment rental prices remain stable as Cambo...</td>\n",
       "      <td>아파트 임대 가격은 도시 중심에서 캄보디아 스티플 C-19가 확산됨에 따라 안정적으...</td>\n",
       "    </tr>\n",
       "  </tbody>\n",
       "</table>\n",
       "<p>300 rows × 8 columns</p>\n",
       "</div>\n",
       "      <button class=\"colab-df-convert\" onclick=\"convertToInteractive('df-d5e13c5d-98db-4c96-94a8-7a038645fa5f')\"\n",
       "              title=\"Convert this dataframe to an interactive table.\"\n",
       "              style=\"display:none;\">\n",
       "        \n",
       "  <svg xmlns=\"http://www.w3.org/2000/svg\" height=\"24px\"viewBox=\"0 0 24 24\"\n",
       "       width=\"24px\">\n",
       "    <path d=\"M0 0h24v24H0V0z\" fill=\"none\"/>\n",
       "    <path d=\"M18.56 5.44l.94 2.06.94-2.06 2.06-.94-2.06-.94-.94-2.06-.94 2.06-2.06.94zm-11 1L8.5 8.5l.94-2.06 2.06-.94-2.06-.94L8.5 2.5l-.94 2.06-2.06.94zm10 10l.94 2.06.94-2.06 2.06-.94-2.06-.94-.94-2.06-.94 2.06-2.06.94z\"/><path d=\"M17.41 7.96l-1.37-1.37c-.4-.4-.92-.59-1.43-.59-.52 0-1.04.2-1.43.59L10.3 9.45l-7.72 7.72c-.78.78-.78 2.05 0 2.83L4 21.41c.39.39.9.59 1.41.59.51 0 1.02-.2 1.41-.59l7.78-7.78 2.81-2.81c.8-.78.8-2.07 0-2.86zM5.41 20L4 18.59l7.72-7.72 1.47 1.35L5.41 20z\"/>\n",
       "  </svg>\n",
       "      </button>\n",
       "      \n",
       "  <style>\n",
       "    .colab-df-container {\n",
       "      display:flex;\n",
       "      flex-wrap:wrap;\n",
       "      gap: 12px;\n",
       "    }\n",
       "\n",
       "    .colab-df-convert {\n",
       "      background-color: #E8F0FE;\n",
       "      border: none;\n",
       "      border-radius: 50%;\n",
       "      cursor: pointer;\n",
       "      display: none;\n",
       "      fill: #1967D2;\n",
       "      height: 32px;\n",
       "      padding: 0 0 0 0;\n",
       "      width: 32px;\n",
       "    }\n",
       "\n",
       "    .colab-df-convert:hover {\n",
       "      background-color: #E2EBFA;\n",
       "      box-shadow: 0px 1px 2px rgba(60, 64, 67, 0.3), 0px 1px 3px 1px rgba(60, 64, 67, 0.15);\n",
       "      fill: #174EA6;\n",
       "    }\n",
       "\n",
       "    [theme=dark] .colab-df-convert {\n",
       "      background-color: #3B4455;\n",
       "      fill: #D2E3FC;\n",
       "    }\n",
       "\n",
       "    [theme=dark] .colab-df-convert:hover {\n",
       "      background-color: #434B5C;\n",
       "      box-shadow: 0px 1px 3px 1px rgba(0, 0, 0, 0.15);\n",
       "      filter: drop-shadow(0px 1px 2px rgba(0, 0, 0, 0.3));\n",
       "      fill: #FFFFFF;\n",
       "    }\n",
       "  </style>\n",
       "\n",
       "      <script>\n",
       "        const buttonEl =\n",
       "          document.querySelector('#df-d5e13c5d-98db-4c96-94a8-7a038645fa5f button.colab-df-convert');\n",
       "        buttonEl.style.display =\n",
       "          google.colab.kernel.accessAllowed ? 'block' : 'none';\n",
       "\n",
       "        async function convertToInteractive(key) {\n",
       "          const element = document.querySelector('#df-d5e13c5d-98db-4c96-94a8-7a038645fa5f');\n",
       "          const dataTable =\n",
       "            await google.colab.kernel.invokeFunction('convertToInteractive',\n",
       "                                                     [key], {});\n",
       "          if (!dataTable) return;\n",
       "\n",
       "          const docLinkHtml = 'Like what you see? Visit the ' +\n",
       "            '<a target=\"_blank\" href=https://colab.research.google.com/notebooks/data_table.ipynb>data table notebook</a>'\n",
       "            + ' to learn more about interactive tables.';\n",
       "          element.innerHTML = '';\n",
       "          dataTable['output_type'] = 'display_data';\n",
       "          await google.colab.output.renderOutput(dataTable, element);\n",
       "          const docLink = document.createElement('div');\n",
       "          docLink.innerHTML = docLinkHtml;\n",
       "          element.appendChild(docLink);\n",
       "        }\n",
       "      </script>\n",
       "    </div>\n",
       "  </div>\n",
       "  "
      ],
      "text/plain": [
       "     Unnamed: 0                                              title  \\\n",
       "0             0  Cambodian Property and Investment Growth 2022 ...   \n",
       "1             1  Across New York, renters desperate as soaring ...   \n",
       "2             2  Intercity Roads Approach Completion in Coastal...   \n",
       "3             3  Working to Forge a Win-Win and “Innovative” Fu...   \n",
       "4             4  Post-Covid, demand for luxury housing in India...   \n",
       "..          ...                                                ...   \n",
       "295         295  Roma mansions in Moldova abandoned in economic...   \n",
       "296         296  Yemen’s ancient ‘Manhattan of the Desert’ risk...   \n",
       "297         297  Cambodian market shows the most significant re...   \n",
       "298         298  Join YEPS 2020 for a massive marketing boost w...   \n",
       "299         299  Phnom Penh apartment rental updates – Septembe...   \n",
       "\n",
       "                                            Unnamed: 2              date  \\\n",
       "0                          캄보디아 재산 및 투자 성장 2022 - 관점에서   August 17, 2022   \n",
       "1        뉴욕 전역에서 임대인이 주택 위기를 악화시켜 급증함에 따라 임차인이 절망적입니다.   August 10, 2022   \n",
       "2                           해안 도로는 해안 주 시아누크 빌에서 완성됩니다   August 10, 2022   \n",
       "3    Win-win과 \"혁신적인\"Future를 함께 만들기 위해 Phnom Penh의 첫...    August 8, 2022   \n",
       "4                             포스트 코비드, 인도의 고급 주택 수요 증가    August 3, 2022   \n",
       "..                                                 ...               ...   \n",
       "295                           몰도바의 로마 저택은 경제 출애굽기에 버렸다  November 4, 2020   \n",
       "296                         예멘의 고대 '사막의 맨해튼'위험이 붕괴됩니다.  November 4, 2020   \n",
       "297                          캄보디아 시장은 가장 중요한 회복을 보여줍니다  November 4, 2020   \n",
       "298      $ 100,000의 대규모 마케팅 부스트를 위해 YEPS 2020에 가입하십시오!  October 28, 2020   \n",
       "299                       프놈펜 아파트 임대 업데이트 - 2020 년 9 월  October 28, 2020   \n",
       "\n",
       "           Unnamed: 4                                                url  \\\n",
       "0     2022 년 8 월 17 일  https://www.khmertimeskh.com/501133274/cambodi...   \n",
       "1     2022 년 8 월 10 일  https://www.khmertimeskh.com/501129260/across-...   \n",
       "2     2022 년 8 월 10 일  https://www.khmertimeskh.com/501129262/interci...   \n",
       "3      2022 년 8 월 8 일  https://www.khmertimeskh.com/501127698/working...   \n",
       "4      2022 년 8 월 3 일  https://www.khmertimeskh.com/501124435/post-co...   \n",
       "..                ...                                                ...   \n",
       "295   2020 년 11 월 4 일  https://www.khmertimeskh.com/50779494/roma-man...   \n",
       "296   2020 년 11 월 4 일  https://www.khmertimeskh.com/50779485/yemens-a...   \n",
       "297   2020 년 11 월 4 일  https://www.khmertimeskh.com/50779493/cambodia...   \n",
       "298  2020 년 10 월 28 일  https://www.khmertimeskh.com/50777700/join-yep...   \n",
       "299  2020 년 10 월 28 일  https://www.khmertimeskh.com/50777727/phnom-pe...   \n",
       "\n",
       "                                               content  \\\n",
       "0    Cambodia continues to be an ideal destination ...   \n",
       "1    In mid-May, Paula Sevilla and her roommates jo...   \n",
       "2    Preah Sihanouk intercity roads are approaching...   \n",
       "3    On 5th of Aug, the channel presentation of the...   \n",
       "4    The return of normalcy has brought buyer confi...   \n",
       "..                                                 ...   \n",
       "295  Extravagant mansions once owned by wealthy Rom...   \n",
       "296  Dubbed the “Manhattan of the desert” for its c...   \n",
       "297  The Phnom Penh Real Estate Market in Q3 of 202...   \n",
       "298  Boost your business’ exposure with the most an...   \n",
       "299  Apartment rental prices remain stable as Cambo...   \n",
       "\n",
       "                                              contents  \n",
       "0    캄보디아는 계속해서 활동을 확장하고 아세안 지역 내에서 시장의 존재를 늘리기위한 투...  \n",
       "1    5 월 중순, Paula Sevilla와 그녀의 룸메이트는 도시의 분쇄 주택 위기에...  \n",
       "2    Preah Sihanouk Intercity Roads는 공공 사업부 교통부 (MP...  \n",
       "3    8 월 5 일, Lixin CEO Center-Phnom Penh의 첫 6A 등급 ...  \n",
       "4    정상의 수익은 더 큰 주택에 대한 수요를 창출하는 것 외에도 부동산 시장에서 구매자...  \n",
       "..                                                 ...  \n",
       "295  부유 한 로마가 소유 한 사치스러운 저택은 몰도바 북부의 소로카의 겸손한 전통 주택...  \n",
       "296  수세기 전의 초고층 빌딩을 위해“사막의 맨해튼”이라고 불리는 예멘의 고대 도시시 햄...  \n",
       "297  2020 년 3 분기의 프놈펜 부동산 시장은 Covid-19 Pandemic의 압력...  \n",
       "298                올해 가장 기대되는 소비자 엑스포로 비즈니스 노출을 늘리십시오!  \n",
       "299  아파트 임대 가격은 도시 중심에서 캄보디아 스티플 C-19가 확산됨에 따라 안정적으...  \n",
       "\n",
       "[300 rows x 8 columns]"
      ]
     },
     "execution_count": 249,
     "metadata": {},
     "output_type": "execute_result"
    }
   ],
   "source": [
    "df_Cambodia = pd.read_excel('/content/drive/MyDrive/Intern/mywork/Cambodia_Finance.xlsx')\n",
    "df_Cambodia"
   ]
  },
  {
   "cell_type": "code",
   "execution_count": 250,
   "metadata": {
    "colab": {
     "base_uri": "https://localhost:8080/",
     "height": 832
    },
    "executionInfo": {
     "elapsed": 318,
     "status": "ok",
     "timestamp": 1660958360257,
     "user": {
      "displayName": "손현오",
      "userId": "06550482445240444986"
     },
     "user_tz": -540
    },
    "id": "7X5XXSYdXkjO",
    "outputId": "1b307848-ce95-4a7a-8fe0-79543b6c6f0f"
   },
   "outputs": [
    {
     "data": {
      "text/html": [
       "\n",
       "  <div id=\"df-0f653752-9077-4c0a-a8bc-9207d05bae6e\">\n",
       "    <div class=\"colab-df-container\">\n",
       "      <div>\n",
       "<style scoped>\n",
       "    .dataframe tbody tr th:only-of-type {\n",
       "        vertical-align: middle;\n",
       "    }\n",
       "\n",
       "    .dataframe tbody tr th {\n",
       "        vertical-align: top;\n",
       "    }\n",
       "\n",
       "    .dataframe thead th {\n",
       "        text-align: right;\n",
       "    }\n",
       "</style>\n",
       "<table border=\"1\" class=\"dataframe\">\n",
       "  <thead>\n",
       "    <tr style=\"text-align: right;\">\n",
       "      <th></th>\n",
       "      <th>Unnamed: 0</th>\n",
       "      <th>title</th>\n",
       "      <th>Unnamed: 2</th>\n",
       "      <th>date</th>\n",
       "      <th>Unnamed: 4</th>\n",
       "      <th>url</th>\n",
       "      <th>content</th>\n",
       "      <th>contents</th>\n",
       "    </tr>\n",
       "  </thead>\n",
       "  <tbody>\n",
       "    <tr>\n",
       "      <th>0</th>\n",
       "      <td>0</td>\n",
       "      <td>5 lý do lựa chọn shophouse hai mặt kinh doanh ...</td>\n",
       "      <td>Shophouse를 선택한 5 가지 이유 Saigon Town에서 두 가지 사업</td>\n",
       "      <td>Tháng Tám 16, 2022</td>\n",
       "      <td>2022 년 8 월 16 일</td>\n",
       "      <td>https://www.tintucfn.com/ecnomic/5-ly-do-lua-c...</td>\n",
       "      <td>Thứ nhất: Shophouse “shop to shop” – 2 mặt đều...</td>\n",
       "      <td>첫째 : Shophouse \"Shop to Shop\" - 2면은 Shophouse ...</td>\n",
       "    </tr>\n",
       "    <tr>\n",
       "      <th>1</th>\n",
       "      <td>1</td>\n",
       "      <td>Giám đốc điều hành CBRE: “Triển vọng tăng trưở...</td>\n",
       "      <td>CEO CEO CBRE : \"향후 3 년간 다낭에서 부동산 가격을 늘릴 전망은 매우...</td>\n",
       "      <td>Tháng Tám 15, 2022</td>\n",
       "      <td>2022 년 8 월 15 일</td>\n",
       "      <td>https://www.tintucfn.com/ecnomic/giam-doc-dieu...</td>\n",
       "      <td>Và đây cũng là vùng đất có triển vọng tăng trư...</td>\n",
       "      <td>그리고 이것은 또한 향후 3 년간 부동산 가격 상승에 대한 전망을 가진 토지이기도합...</td>\n",
       "    </tr>\n",
       "    <tr>\n",
       "      <th>2</th>\n",
       "      <td>2</td>\n",
       "      <td>Hải Dương bổ sung 83 dự án vào kế hoạch sử dụn...</td>\n",
       "      <td>Hai Duong은 2022 년 토지 이용 계획에 83 개의 프로젝트를 추가했습니다.</td>\n",
       "      <td>Tháng Tám 15, 2022</td>\n",
       "      <td>2022 년 8 월 15 일</td>\n",
       "      <td>https://www.tintucfn.com/ecnomic/hai-duong-bo-...</td>\n",
       "      <td>Cụ thể, theo quyết định số 2093/QĐ-UBND, UBND ...</td>\n",
       "      <td>구체적으로, 결정 No. 2093/QD-Ubnd에 따르면, Hai Duong Peo...</td>\n",
       "    </tr>\n",
       "    <tr>\n",
       "      <th>3</th>\n",
       "      <td>3</td>\n",
       "      <td>Bức tranh nguồn cung thị trường bất động sản T...</td>\n",
       "      <td>Ho Chi Minh City의 부동산 시장 공급 사진 및 예측</td>\n",
       "      <td>Tháng Tám 14, 2022</td>\n",
       "      <td>2022 년 8 월 14 일</td>\n",
       "      <td>https://www.tintucfn.com/ecnomic/buc-tranh-ngu...</td>\n",
       "      <td>Dấu hiệu của thị trường bất động sản thiếu bền...</td>\n",
       "      <td>2022 년 첫 6 개월 동안 부동산 시장에 호치민시 건설 국의 보고서에서 지속 불...</td>\n",
       "    </tr>\n",
       "    <tr>\n",
       "      <th>4</th>\n",
       "      <td>4</td>\n",
       "      <td>Đền bù gấp 3 lần giá đất, Phú Gia Thịnh có giả...</td>\n",
       "      <td>보상 토지 가격의 3 배, Phu Gia Thinh는 문제를 해결할 수 있습니까?</td>\n",
       "      <td>Tháng Tám 14, 2022</td>\n",
       "      <td>2022 년 8 월 14 일</td>\n",
       "      <td>https://www.tintucfn.com/ecnomic/den-bu-gap-3-...</td>\n",
       "      <td>Những ngày qua, hàng chục người dân lại tập tr...</td>\n",
       "      <td>최근에 수십 명의 사람들이 Phu Gia Thinh Company 본사 앞에 모여 ...</td>\n",
       "    </tr>\n",
       "    <tr>\n",
       "      <th>...</th>\n",
       "      <td>...</td>\n",
       "      <td>...</td>\n",
       "      <td>...</td>\n",
       "      <td>...</td>\n",
       "      <td>...</td>\n",
       "      <td>...</td>\n",
       "      <td>...</td>\n",
       "      <td>...</td>\n",
       "    </tr>\n",
       "    <tr>\n",
       "      <th>295</th>\n",
       "      <td>295</td>\n",
       "      <td>Ra mắt “siêu phẩm” nghỉ dưỡng Sun Riverside Vi...</td>\n",
       "      <td>Sam Son에서 \"Super Product\"Sun Riverside Village 출시</td>\n",
       "      <td>Tháng Mười 11, 2021</td>\n",
       "      <td>2021 년 10 월 11 일</td>\n",
       "      <td>https://www.tintucfn.com/ecnomic/ra-mat-sieu-p...</td>\n",
       "      <td>… mảnh ghép quan trọng hoàn thiện hệ sinh thái...</td>\n",
       "      <td>... Sam Son (Thanh Hoa)의 달러 관광 생태계를 완료하는 중요한 작...</td>\n",
       "    </tr>\n",
       "    <tr>\n",
       "      <th>296</th>\n",
       "      <td>296</td>\n",
       "      <td>Giá căn hộ Hà Nội sẽ biến động như thế nào tro...</td>\n",
       "      <td>향후 3 년 안에 하노이 아파트의 가격은 어떻게 변동합니까?</td>\n",
       "      <td>Tháng Mười 10, 2021</td>\n",
       "      <td>2021 년 10 월 10 일</td>\n",
       "      <td>https://www.tintucfn.com/ecnomic/gia-can-ho-ha...</td>\n",
       "      <td>CBRE vừa đưa ra mức dự báo về thị trường bất đ...</td>\n",
       "      <td>CBRE는 3 분기에 부동산 시장의 예측을 방금 설정했습니다. 따라서 2022 년에...</td>\n",
       "    </tr>\n",
       "    <tr>\n",
       "      <th>297</th>\n",
       "      <td>297</td>\n",
       "      <td>Nghệ An: Vì sao nhiều dự án của tập đoàn Cienc...</td>\n",
       "      <td>Nghe AN : Cienco 4 그룹의 많은 프로젝트가 정지 된 이유는 무엇입니까?</td>\n",
       "      <td>Tháng Mười 10, 2021</td>\n",
       "      <td>2021 년 10 월 10 일</td>\n",
       "      <td>https://www.tintucfn.com/ecnomic/nghe-an-vi-sa...</td>\n",
       "      <td>Dự án Khu đô thị Long Sơn 1, 2, 3, 4 do Công t...</td>\n",
       "      <td>Long Son Urban Area Project 1, 2, 3 및 4 Thanh ...</td>\n",
       "    </tr>\n",
       "    <tr>\n",
       "      <th>298</th>\n",
       "      <td>298</td>\n",
       "      <td>Giá căn hộ chung cư Hà Nội tiếp tục ‘leo thang...</td>\n",
       "      <td>하노이의 아파트 가격은 Covid-19의 번역에도 불구하고 계속 '에스컬레이션'합니다.</td>\n",
       "      <td>Tháng Mười 9, 2021</td>\n",
       "      <td>2021 년 10 월 9 일</td>\n",
       "      <td>https://www.tintucfn.com/ecnomic/gia-can-ho-ch...</td>\n",
       "      <td>Tại báo cáo tổng quan thị trường bất động sản ...</td>\n",
       "      <td>하노이 부동산 시장 개요 보고서에서 Savills Vietnam은 3 분기에 사무실...</td>\n",
       "    </tr>\n",
       "    <tr>\n",
       "      <th>299</th>\n",
       "      <td>299</td>\n",
       "      <td>Văn phòng “All in one” – Khi mọi nhu cầu của k...</td>\n",
       "      <td>사무실 \"All in One\" - VIP 고객의 모든 요구가 한 위치에서만 충족되면</td>\n",
       "      <td>Tháng Mười 8, 2021</td>\n",
       "      <td>2021 년 10 월 8 일</td>\n",
       "      <td>https://www.tintucfn.com/ecnomic/van-phong-all...</td>\n",
       "      <td>Văn phòng “All in one” của KSF Group: Tiêu chu...</td>\n",
       "      <td>KSF 그룹의 \"All In One\"사무소 : VIP 고객을위한 VIP 표준 경제,...</td>\n",
       "    </tr>\n",
       "  </tbody>\n",
       "</table>\n",
       "<p>300 rows × 8 columns</p>\n",
       "</div>\n",
       "      <button class=\"colab-df-convert\" onclick=\"convertToInteractive('df-0f653752-9077-4c0a-a8bc-9207d05bae6e')\"\n",
       "              title=\"Convert this dataframe to an interactive table.\"\n",
       "              style=\"display:none;\">\n",
       "        \n",
       "  <svg xmlns=\"http://www.w3.org/2000/svg\" height=\"24px\"viewBox=\"0 0 24 24\"\n",
       "       width=\"24px\">\n",
       "    <path d=\"M0 0h24v24H0V0z\" fill=\"none\"/>\n",
       "    <path d=\"M18.56 5.44l.94 2.06.94-2.06 2.06-.94-2.06-.94-.94-2.06-.94 2.06-2.06.94zm-11 1L8.5 8.5l.94-2.06 2.06-.94-2.06-.94L8.5 2.5l-.94 2.06-2.06.94zm10 10l.94 2.06.94-2.06 2.06-.94-2.06-.94-.94-2.06-.94 2.06-2.06.94z\"/><path d=\"M17.41 7.96l-1.37-1.37c-.4-.4-.92-.59-1.43-.59-.52 0-1.04.2-1.43.59L10.3 9.45l-7.72 7.72c-.78.78-.78 2.05 0 2.83L4 21.41c.39.39.9.59 1.41.59.51 0 1.02-.2 1.41-.59l7.78-7.78 2.81-2.81c.8-.78.8-2.07 0-2.86zM5.41 20L4 18.59l7.72-7.72 1.47 1.35L5.41 20z\"/>\n",
       "  </svg>\n",
       "      </button>\n",
       "      \n",
       "  <style>\n",
       "    .colab-df-container {\n",
       "      display:flex;\n",
       "      flex-wrap:wrap;\n",
       "      gap: 12px;\n",
       "    }\n",
       "\n",
       "    .colab-df-convert {\n",
       "      background-color: #E8F0FE;\n",
       "      border: none;\n",
       "      border-radius: 50%;\n",
       "      cursor: pointer;\n",
       "      display: none;\n",
       "      fill: #1967D2;\n",
       "      height: 32px;\n",
       "      padding: 0 0 0 0;\n",
       "      width: 32px;\n",
       "    }\n",
       "\n",
       "    .colab-df-convert:hover {\n",
       "      background-color: #E2EBFA;\n",
       "      box-shadow: 0px 1px 2px rgba(60, 64, 67, 0.3), 0px 1px 3px 1px rgba(60, 64, 67, 0.15);\n",
       "      fill: #174EA6;\n",
       "    }\n",
       "\n",
       "    [theme=dark] .colab-df-convert {\n",
       "      background-color: #3B4455;\n",
       "      fill: #D2E3FC;\n",
       "    }\n",
       "\n",
       "    [theme=dark] .colab-df-convert:hover {\n",
       "      background-color: #434B5C;\n",
       "      box-shadow: 0px 1px 3px 1px rgba(0, 0, 0, 0.15);\n",
       "      filter: drop-shadow(0px 1px 2px rgba(0, 0, 0, 0.3));\n",
       "      fill: #FFFFFF;\n",
       "    }\n",
       "  </style>\n",
       "\n",
       "      <script>\n",
       "        const buttonEl =\n",
       "          document.querySelector('#df-0f653752-9077-4c0a-a8bc-9207d05bae6e button.colab-df-convert');\n",
       "        buttonEl.style.display =\n",
       "          google.colab.kernel.accessAllowed ? 'block' : 'none';\n",
       "\n",
       "        async function convertToInteractive(key) {\n",
       "          const element = document.querySelector('#df-0f653752-9077-4c0a-a8bc-9207d05bae6e');\n",
       "          const dataTable =\n",
       "            await google.colab.kernel.invokeFunction('convertToInteractive',\n",
       "                                                     [key], {});\n",
       "          if (!dataTable) return;\n",
       "\n",
       "          const docLinkHtml = 'Like what you see? Visit the ' +\n",
       "            '<a target=\"_blank\" href=https://colab.research.google.com/notebooks/data_table.ipynb>data table notebook</a>'\n",
       "            + ' to learn more about interactive tables.';\n",
       "          element.innerHTML = '';\n",
       "          dataTable['output_type'] = 'display_data';\n",
       "          await google.colab.output.renderOutput(dataTable, element);\n",
       "          const docLink = document.createElement('div');\n",
       "          docLink.innerHTML = docLinkHtml;\n",
       "          element.appendChild(docLink);\n",
       "        }\n",
       "      </script>\n",
       "    </div>\n",
       "  </div>\n",
       "  "
      ],
      "text/plain": [
       "     Unnamed: 0                                              title  \\\n",
       "0             0  5 lý do lựa chọn shophouse hai mặt kinh doanh ...   \n",
       "1             1  Giám đốc điều hành CBRE: “Triển vọng tăng trưở...   \n",
       "2             2  Hải Dương bổ sung 83 dự án vào kế hoạch sử dụn...   \n",
       "3             3  Bức tranh nguồn cung thị trường bất động sản T...   \n",
       "4             4  Đền bù gấp 3 lần giá đất, Phú Gia Thịnh có giả...   \n",
       "..          ...                                                ...   \n",
       "295         295  Ra mắt “siêu phẩm” nghỉ dưỡng Sun Riverside Vi...   \n",
       "296         296  Giá căn hộ Hà Nội sẽ biến động như thế nào tro...   \n",
       "297         297  Nghệ An: Vì sao nhiều dự án của tập đoàn Cienc...   \n",
       "298         298  Giá căn hộ chung cư Hà Nội tiếp tục ‘leo thang...   \n",
       "299         299  Văn phòng “All in one” – Khi mọi nhu cầu của k...   \n",
       "\n",
       "                                            Unnamed: 2                 date  \\\n",
       "0         Shophouse를 선택한 5 가지 이유 Saigon Town에서 두 가지 사업   Tháng Tám 16, 2022   \n",
       "1    CEO CEO CBRE : \"향후 3 년간 다낭에서 부동산 가격을 늘릴 전망은 매우...   Tháng Tám 15, 2022   \n",
       "2      Hai Duong은 2022 년 토지 이용 계획에 83 개의 프로젝트를 추가했습니다.   Tháng Tám 15, 2022   \n",
       "3                  Ho Chi Minh City의 부동산 시장 공급 사진 및 예측   Tháng Tám 14, 2022   \n",
       "4        보상 토지 가격의 3 배, Phu Gia Thinh는 문제를 해결할 수 있습니까?   Tháng Tám 14, 2022   \n",
       "..                                                 ...                  ...   \n",
       "295  Sam Son에서 \"Super Product\"Sun Riverside Village 출시  Tháng Mười 11, 2021   \n",
       "296                  향후 3 년 안에 하노이 아파트의 가격은 어떻게 변동합니까?  Tháng Mười 10, 2021   \n",
       "297    Nghe AN : Cienco 4 그룹의 많은 프로젝트가 정지 된 이유는 무엇입니까?  Tháng Mười 10, 2021   \n",
       "298   하노이의 아파트 가격은 Covid-19의 번역에도 불구하고 계속 '에스컬레이션'합니다.   Tháng Mười 9, 2021   \n",
       "299     사무실 \"All in One\" - VIP 고객의 모든 요구가 한 위치에서만 충족되면   Tháng Mười 8, 2021   \n",
       "\n",
       "           Unnamed: 4                                                url  \\\n",
       "0     2022 년 8 월 16 일  https://www.tintucfn.com/ecnomic/5-ly-do-lua-c...   \n",
       "1     2022 년 8 월 15 일  https://www.tintucfn.com/ecnomic/giam-doc-dieu...   \n",
       "2     2022 년 8 월 15 일  https://www.tintucfn.com/ecnomic/hai-duong-bo-...   \n",
       "3     2022 년 8 월 14 일  https://www.tintucfn.com/ecnomic/buc-tranh-ngu...   \n",
       "4     2022 년 8 월 14 일  https://www.tintucfn.com/ecnomic/den-bu-gap-3-...   \n",
       "..                ...                                                ...   \n",
       "295  2021 년 10 월 11 일  https://www.tintucfn.com/ecnomic/ra-mat-sieu-p...   \n",
       "296  2021 년 10 월 10 일  https://www.tintucfn.com/ecnomic/gia-can-ho-ha...   \n",
       "297  2021 년 10 월 10 일  https://www.tintucfn.com/ecnomic/nghe-an-vi-sa...   \n",
       "298   2021 년 10 월 9 일  https://www.tintucfn.com/ecnomic/gia-can-ho-ch...   \n",
       "299   2021 년 10 월 8 일  https://www.tintucfn.com/ecnomic/van-phong-all...   \n",
       "\n",
       "                                               content  \\\n",
       "0    Thứ nhất: Shophouse “shop to shop” – 2 mặt đều...   \n",
       "1    Và đây cũng là vùng đất có triển vọng tăng trư...   \n",
       "2    Cụ thể, theo quyết định số 2093/QĐ-UBND, UBND ...   \n",
       "3    Dấu hiệu của thị trường bất động sản thiếu bền...   \n",
       "4    Những ngày qua, hàng chục người dân lại tập tr...   \n",
       "..                                                 ...   \n",
       "295  … mảnh ghép quan trọng hoàn thiện hệ sinh thái...   \n",
       "296  CBRE vừa đưa ra mức dự báo về thị trường bất đ...   \n",
       "297  Dự án Khu đô thị Long Sơn 1, 2, 3, 4 do Công t...   \n",
       "298  Tại báo cáo tổng quan thị trường bất động sản ...   \n",
       "299  Văn phòng “All in one” của KSF Group: Tiêu chu...   \n",
       "\n",
       "                                              contents  \n",
       "0    첫째 : Shophouse \"Shop to Shop\" - 2면은 Shophouse ...  \n",
       "1    그리고 이것은 또한 향후 3 년간 부동산 가격 상승에 대한 전망을 가진 토지이기도합...  \n",
       "2    구체적으로, 결정 No. 2093/QD-Ubnd에 따르면, Hai Duong Peo...  \n",
       "3    2022 년 첫 6 개월 동안 부동산 시장에 호치민시 건설 국의 보고서에서 지속 불...  \n",
       "4    최근에 수십 명의 사람들이 Phu Gia Thinh Company 본사 앞에 모여 ...  \n",
       "..                                                 ...  \n",
       "295  ... Sam Son (Thanh Hoa)의 달러 관광 생태계를 완료하는 중요한 작...  \n",
       "296  CBRE는 3 분기에 부동산 시장의 예측을 방금 설정했습니다. 따라서 2022 년에...  \n",
       "297  Long Son Urban Area Project 1, 2, 3 및 4 Thanh ...  \n",
       "298  하노이 부동산 시장 개요 보고서에서 Savills Vietnam은 3 분기에 사무실...  \n",
       "299  KSF 그룹의 \"All In One\"사무소 : VIP 고객을위한 VIP 표준 경제,...  \n",
       "\n",
       "[300 rows x 8 columns]"
      ]
     },
     "execution_count": 250,
     "metadata": {},
     "output_type": "execute_result"
    }
   ],
   "source": [
    "df_Vietnam = pd.read_excel('/content/drive/MyDrive/Intern/mywork/Vietnam_Finance.xlsx')\n",
    "df_Vietnam"
   ]
  },
  {
   "cell_type": "code",
   "execution_count": 251,
   "metadata": {
    "executionInfo": {
     "elapsed": 9,
     "status": "ok",
     "timestamp": 1660958360258,
     "user": {
      "displayName": "손현오",
      "userId": "06550482445240444986"
     },
     "user_tz": -540
    },
    "id": "GPIdvZpYLnVy"
   },
   "outputs": [],
   "source": [
    "sen_dict = {0:'중립', 1: '긍정', 2:'부정'}\n",
    "def sentiment_predict(new_sentence):\n",
    "    new_sentence = mecab.morphs(new_sentence) # 토큰화\n",
    "    # new_sentence = [word for word in new_sentence if not word in stopwords] # 불용어 제거\n",
    "    encoded = tokenizer.texts_to_sequences([new_sentence]) # 정수 인코딩\n",
    "    pad_new = pad_sequences(encoded, maxlen = max_len) # 패딩\n",
    "    score = loaded_model.predict(pad_new) # 예측\n",
    "\n",
    "    global sen_dict\n",
    "    \n",
    "    sen = [i for i in score[0][1:] if i >= 0.5 and i <= score[0][0]]\n",
    "    if len(sen) == 0:\n",
    "      return sen_dict[np.where(score[0] == max(score[0]))[0][0] ]\n",
    "    print(\"eeeeeeeeee\")\n",
    "    sen = [ max(sen) ]  # 긍정 부정 둘다 50 넘었을 경우\n",
    "    r = np.where(score[0] == sen[0])\n",
    "    return sen_dict[r[0][0]]"
   ]
  },
  {
   "cell_type": "code",
   "execution_count": 252,
   "metadata": {
    "executionInfo": {
     "elapsed": 9,
     "status": "ok",
     "timestamp": 1660958360258,
     "user": {
      "displayName": "손현오",
      "userId": "06550482445240444986"
     },
     "user_tz": -540
    },
    "id": "J05HEBtLOmZ2"
   },
   "outputs": [],
   "source": [
    "# sentiment_predict(df['Finance Article'][0])"
   ]
  },
  {
   "cell_type": "code",
   "execution_count": 253,
   "metadata": {
    "executionInfo": {
     "elapsed": 18312,
     "status": "ok",
     "timestamp": 1660958378562,
     "user": {
      "displayName": "손현오",
      "userId": "06550482445240444986"
     },
     "user_tz": -540
    },
    "id": "vbuGGY1JXkf8"
   },
   "outputs": [],
   "source": [
    "df_India['감정_예측값'] = df_India['contents'].apply(lambda x :sentiment_predict(x))"
   ]
  },
  {
   "cell_type": "code",
   "execution_count": 254,
   "metadata": {
    "executionInfo": {
     "elapsed": 19691,
     "status": "ok",
     "timestamp": 1660958398222,
     "user": {
      "displayName": "손현오",
      "userId": "06550482445240444986"
     },
     "user_tz": -540
    },
    "id": "nNtefBVicSgT"
   },
   "outputs": [],
   "source": [
    "df_Cambodia['감정_예측값'] = df_Cambodia['contents'].apply(lambda x :sentiment_predict(x))"
   ]
  },
  {
   "cell_type": "code",
   "execution_count": 255,
   "metadata": {
    "executionInfo": {
     "elapsed": 18412,
     "status": "ok",
     "timestamp": 1660958416612,
     "user": {
      "displayName": "손현오",
      "userId": "06550482445240444986"
     },
     "user_tz": -540
    },
    "id": "FucQegHYcSql"
   },
   "outputs": [],
   "source": [
    "df_Vietnam['감정_예측값'] = df_Vietnam['contents'].apply(lambda x :sentiment_predict(x))"
   ]
  },
  {
   "cell_type": "code",
   "execution_count": 256,
   "metadata": {
    "colab": {
     "base_uri": "https://localhost:8080/"
    },
    "executionInfo": {
     "elapsed": 36,
     "status": "ok",
     "timestamp": 1660958416613,
     "user": {
      "displayName": "손현오",
      "userId": "06550482445240444986"
     },
     "user_tz": -540
    },
    "id": "NI8D11NvhxHH",
    "outputId": "9f65e13d-c2dc-4852-8252-cc338e849184"
   },
   "outputs": [
    {
     "data": {
      "text/plain": [
       "중립    216\n",
       "긍정     57\n",
       "부정     15\n",
       "Name: 감정_예측값, dtype: int64"
      ]
     },
     "execution_count": 256,
     "metadata": {},
     "output_type": "execute_result"
    }
   ],
   "source": [
    "df_India['감정_예측값'].value_counts()"
   ]
  },
  {
   "cell_type": "code",
   "execution_count": 257,
   "metadata": {
    "colab": {
     "base_uri": "https://localhost:8080/"
    },
    "executionInfo": {
     "elapsed": 31,
     "status": "ok",
     "timestamp": 1660958416613,
     "user": {
      "displayName": "손현오",
      "userId": "06550482445240444986"
     },
     "user_tz": -540
    },
    "id": "_rRhVVwJhxnt",
    "outputId": "7905010f-1ec1-4dfa-8bd5-1f1b944e7e6c"
   },
   "outputs": [
    {
     "data": {
      "text/plain": [
       "중립    206\n",
       "긍정     81\n",
       "부정     13\n",
       "Name: 감정_예측값, dtype: int64"
      ]
     },
     "execution_count": 257,
     "metadata": {},
     "output_type": "execute_result"
    }
   ],
   "source": [
    "df_Cambodia['감정_예측값'].value_counts()"
   ]
  },
  {
   "cell_type": "code",
   "execution_count": 258,
   "metadata": {
    "colab": {
     "base_uri": "https://localhost:8080/"
    },
    "executionInfo": {
     "elapsed": 24,
     "status": "ok",
     "timestamp": 1660958416613,
     "user": {
      "displayName": "손현오",
      "userId": "06550482445240444986"
     },
     "user_tz": -540
    },
    "id": "lsg3wo8uhxrd",
    "outputId": "069fbb22-d1ea-4161-d94e-b79316ee130c"
   },
   "outputs": [
    {
     "data": {
      "text/plain": [
       "중립    222\n",
       "긍정     74\n",
       "부정      4\n",
       "Name: 감정_예측값, dtype: int64"
      ]
     },
     "execution_count": 258,
     "metadata": {},
     "output_type": "execute_result"
    }
   ],
   "source": [
    "df_Vietnam['감정_예측값'].value_counts()"
   ]
  },
  {
   "cell_type": "code",
   "execution_count": null,
   "metadata": {
    "executionInfo": {
     "elapsed": 8,
     "status": "aborted",
     "timestamp": 1660950747816,
     "user": {
      "displayName": "손현오",
      "userId": "06550482445240444986"
     },
     "user_tz": -540
    },
    "id": "klqWprN0YALz"
   },
   "outputs": [],
   "source": [
    "# df[df['감정_예측값']=='긍정']"
   ]
  },
  {
   "cell_type": "code",
   "execution_count": 259,
   "metadata": {
    "executionInfo": {
     "elapsed": 975,
     "status": "ok",
     "timestamp": 1660959572972,
     "user": {
      "displayName": "손현오",
      "userId": "06550482445240444986"
     },
     "user_tz": -540
    },
    "id": "3Ufq-jIoc95b"
   },
   "outputs": [],
   "source": [
    "df_India.to_excel('/content/drive/MyDrive/Intern/mywork/Sentiment_results_India.xlsx', index=None)\n",
    "df_Cambodia.to_excel('/content/drive/MyDrive/Intern/mywork/Sentiment_results_Cambodia.xlsx', index=None)\n",
    "df_Vietnam.to_excel('/content/drive/MyDrive/Intern/mywork/Sentiment_results_Vietnam.xlsx', index=None)"
   ]
  },
  {
   "cell_type": "code",
   "execution_count": 113,
   "metadata": {
    "executionInfo": {
     "elapsed": 291,
     "status": "ok",
     "timestamp": 1660951524298,
     "user": {
      "displayName": "손현오",
      "userId": "06550482445240444986"
     },
     "user_tz": -540
    },
    "id": "McCH4KerlRPE"
   },
   "outputs": [],
   "source": [
    "India_Finance = ' '.join(df_India.loc[:,'contents'])\n",
    "Cambodia_Finance = ' '.join(df_Cambodia.loc[:,'contents'])\n",
    "Vietnam_Finance = ' '.join(df_Vietnam.loc[:,'contents'])"
   ]
  },
  {
   "cell_type": "code",
   "execution_count": 114,
   "metadata": {
    "colab": {
     "base_uri": "https://localhost:8080/"
    },
    "executionInfo": {
     "elapsed": 439,
     "status": "ok",
     "timestamp": 1660951525138,
     "user": {
      "displayName": "손현오",
      "userId": "06550482445240444986"
     },
     "user_tz": -540
    },
    "id": "2o4SDJ6_5NRo",
    "outputId": "89cc3ef2-a831-4b8c-e0be-d6b1826efce6"
   },
   "outputs": [
    {
     "data": {
      "text/plain": [
       "array([[0.9266941 , 0.03793113, 0.03537479]], dtype=float32)"
      ]
     },
     "execution_count": 114,
     "metadata": {},
     "output_type": "execute_result"
    }
   ],
   "source": [
    "sentiment_predict(India_Finance)"
   ]
  },
  {
   "cell_type": "code",
   "execution_count": 115,
   "metadata": {
    "colab": {
     "base_uri": "https://localhost:8080/"
    },
    "executionInfo": {
     "elapsed": 2,
     "status": "ok",
     "timestamp": 1660951525513,
     "user": {
      "displayName": "손현오",
      "userId": "06550482445240444986"
     },
     "user_tz": -540
    },
    "id": "t6uToEp75R4Y",
    "outputId": "ef78b6d2-1072-4963-9dc4-89b0cfc77618"
   },
   "outputs": [
    {
     "data": {
      "text/plain": [
       "array([[0.9390192 , 0.03562536, 0.02535533]], dtype=float32)"
      ]
     },
     "execution_count": 115,
     "metadata": {},
     "output_type": "execute_result"
    }
   ],
   "source": [
    "sentiment_predict(Cambodia_Finance)"
   ]
  },
  {
   "cell_type": "code",
   "execution_count": 116,
   "metadata": {
    "colab": {
     "base_uri": "https://localhost:8080/"
    },
    "executionInfo": {
     "elapsed": 297,
     "status": "ok",
     "timestamp": 1660951526151,
     "user": {
      "displayName": "손현오",
      "userId": "06550482445240444986"
     },
     "user_tz": -540
    },
    "id": "NNBHpjiRZMlL",
    "outputId": "e31523e4-57d6-4c45-9ef8-1a1f528a753d"
   },
   "outputs": [
    {
     "data": {
      "text/plain": [
       "array([[0.9268831 , 0.04012983, 0.03298704]], dtype=float32)"
      ]
     },
     "execution_count": 116,
     "metadata": {},
     "output_type": "execute_result"
    }
   ],
   "source": [
    "sentiment_predict(Vietnam_Finance)"
   ]
  },
  {
   "cell_type": "code",
   "execution_count": null,
   "metadata": {
    "id": "1w-GC6gQZRBM"
   },
   "outputs": [],
   "source": []
  }
 ],
 "metadata": {
  "colab": {
   "collapsed_sections": [],
   "name": "Sentiment_analysis.ipynb",
   "provenance": []
  },
  "kernelspec": {
   "display_name": "Python 3",
   "language": "python",
   "name": "python3"
  },
  "language_info": {
   "codemirror_mode": {
    "name": "ipython",
    "version": 3
   },
   "file_extension": ".py",
   "mimetype": "text/x-python",
   "name": "python",
   "nbconvert_exporter": "python",
   "pygments_lexer": "ipython3",
   "version": "3.8.5"
  }
 },
 "nbformat": 4,
 "nbformat_minor": 1
}
