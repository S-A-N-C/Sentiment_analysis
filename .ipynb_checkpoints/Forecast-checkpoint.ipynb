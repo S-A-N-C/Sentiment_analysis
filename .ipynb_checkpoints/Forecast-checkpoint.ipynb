{
 "cells": [
  {
   "cell_type": "code",
   "execution_count": 1,
   "metadata": {},
   "outputs": [
    {
     "name": "stderr",
     "output_type": "stream",
     "text": [
      "C:\\ProgramData\\Anaconda3\\lib\\site-packages\\requests\\__init__.py:89: RequestsDependencyWarning: urllib3 (1.26.11) or chardet (3.0.4) doesn't match a supported version!\n",
      "  warnings.warn(\"urllib3 ({}) or chardet ({}) doesn't match a supported \"\n"
     ]
    }
   ],
   "source": [
    "import folium"
   ]
  },
  {
   "cell_type": "code",
   "execution_count": 19,
   "metadata": {},
   "outputs": [],
   "source": [
    "import folium\n",
    "import base64\n",
    " \n",
    "m = folium.Map(location=[13.563881163839747, 87.844077479023],\n",
    "               zoom_start=5)\n",
    " \n",
    "# pic = base64.b64encode(open('smu.jpg','rb').read()).decode()\n",
    "# image_tag = '<img src=\"data:image/jpeg;base64,{}\">'.format(pic)\n",
    "# image_tag = '<img src=\"https://pic.sopili.net/pub/emoji/twitter/2/72x72/2600.png\" width=50 height=50>'\n",
    "# ![image](https://user-images.githubusercontent.com/26592315/185729098-bd4fd4f2-1771-4c09-9461-f2084bbaa652.png)\n",
    "\n",
    "image_tags = ['<img src=\"https://user-images.githubusercontent.com/26592315/185729098-bd4fd4f2-1771-4c09-9461-f2084bbaa652.png\" width=280 height=250>',\n",
    "             '<img src=\"https://user-images.githubusercontent.com/26592315/185730689-c438fb32-651a-4ddb-b702-faa4558ecaff.png\" width=280 height=250>',\n",
    "             '<img src=\"https://user-images.githubusercontent.com/26592315/185730699-61c6edb7-e327-486d-864b-bc85d59e510c.png\" width=280 height=250>' ]\n",
    "\n",
    "iframe = folium.IFrame(image_tags[0], width=300, height=300)\n",
    "popup_india = folium.Popup(iframe, max_width=650)\n",
    "\n",
    "iframe = folium.IFrame(image_tags[1], width=300, height=300)\n",
    "popup_cambodia = folium.Popup(iframe, max_width=650)\n",
    "\n",
    "iframe = folium.IFrame(image_tags[2], width=300, height=300)\n",
    "popup_vietnam = folium.Popup(iframe, max_width=650)\n",
    "\n",
    "\n",
    "folium.Marker([23.360189036757664, 78.86278768269393],\n",
    "              icon = folium.Icon(color='red', icon='star'),\n",
    "              popup=popup_india,\n",
    "              tooltip=\"인도 금융시장 예보\").add_to(m)\n",
    "\n",
    "folium.Marker([12.822905283376853, 104.93335168593507],\n",
    "              icon = folium.Icon(color='blue', icon='star'),\n",
    "              popup=popup_cambodia,\n",
    "              tooltip=\"캄보디아 금융시장 예보\").add_to(m)\n",
    "\n",
    "folium.Marker([14.674179360797188, 108.34095191854652],\n",
    "              icon = folium.Icon(color='green', icon='star'),\n",
    "              popup=popup_vietnam,\n",
    "              tooltip=\"베트남 금융시장 예보\").add_to(m)\n",
    "\n",
    "m\n",
    "m.save('Forecast.html')"
   ]
  },
  {
   "cell_type": "code",
   "execution_count": null,
   "metadata": {},
   "outputs": [],
   "source": []
  }
 ],
 "metadata": {
  "kernelspec": {
   "display_name": "Python 3",
   "language": "python",
   "name": "python3"
  },
  "language_info": {
   "codemirror_mode": {
    "name": "ipython",
    "version": 3
   },
   "file_extension": ".py",
   "mimetype": "text/x-python",
   "name": "python",
   "nbconvert_exporter": "python",
   "pygments_lexer": "ipython3",
   "version": "3.8.5"
  }
 },
 "nbformat": 4,
 "nbformat_minor": 4
}
